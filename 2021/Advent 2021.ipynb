{
 "cells": [
  {
   "cell_type": "markdown",
   "metadata": {},
   "source": [
    "# Advent of Code 2021"
   ]
  },
  {
   "cell_type": "markdown",
   "metadata": {},
   "source": [
    "## Day 1"
   ]
  },
  {
   "cell_type": "markdown",
   "metadata": {},
   "source": [
    "### Part 1\n",
    "\n",
    "count the number of times a depth measurement increases"
   ]
  },
  {
   "cell_type": "code",
   "execution_count": null,
   "metadata": {
    "dotnet_interactive": {
     "language": "fsharp"
    }
   },
   "outputs": [],
   "source": [
    "let fileAsSequence fileName = \n",
    "    System.IO.File.ReadLines(fileName) \n",
    "    |> Seq.toArray\n",
    "\n",
    "let depthMeasurements = \n",
    "    fileAsSequence \"./Day 1.txt\"\n",
    "    |> Seq.map int"
   ]
  },
  {
   "cell_type": "code",
   "execution_count": null,
   "metadata": {
    "dotnet_interactive": {
     "language": "fsharp"
    }
   },
   "outputs": [
    {
     "data": {
      "text/html": [
       "<div class=\"dni-plaintext\">1602</div>"
      ]
     },
     "metadata": {},
     "output_type": "display_data"
    }
   ],
   "source": [
    "let countIncreases list =\n",
    "    list\n",
    "    |> Seq.pairwise\n",
    "    |> Seq.filter (fun ((a, b)) -> a < b)\n",
    "    |> Seq.length\n",
    "\n",
    "countIncreases depthMeasurements"
   ]
  },
  {
   "cell_type": "markdown",
   "metadata": {},
   "source": [
    "### Part 2\n",
    "\n",
    "sums of a three-measurement sliding window"
   ]
  },
  {
   "cell_type": "code",
   "execution_count": null,
   "metadata": {
    "dotnet_interactive": {
     "language": "fsharp"
    }
   },
   "outputs": [
    {
     "data": {
      "text/html": [
       "<div class=\"dni-plaintext\">1633</div>"
      ]
     },
     "metadata": {},
     "output_type": "display_data"
    }
   ],
   "source": [
    "depthMeasurements\n",
    "|> Seq.windowed 3\n",
    "|> Seq.map Seq.sum\n",
    "|> countIncreases"
   ]
  },
  {
   "cell_type": "markdown",
   "metadata": {},
   "source": [
    "## Day 2"
   ]
  },
  {
   "cell_type": "markdown",
   "metadata": {},
   "source": [
    "### Part 1\n",
    "\n",
    "multiply your final horizontal position by your final depth?"
   ]
  },
  {
   "cell_type": "code",
   "execution_count": null,
   "metadata": {
    "dotnet_interactive": {
     "language": "fsharp"
    }
   },
   "outputs": [],
   "source": [
    "let asCartesianChange (direction, change) =\n",
    "    match direction with\n",
    "    | \"forward\" -> (change, 0)\n",
    "    | \"up\" -> (0, -change)\n",
    "    | \"down\" -> (0, change)\n",
    "    | _ -> (0, 0)\n",
    "\n",
    "let course =\n",
    "    fileAsSequence \"./Day 2.txt\"\n",
    "    |> Seq.map (fun line -> line.Split \" \")\n",
    "    |> Seq.map (fun pair -> (pair.[0], pair.[1] |> int))\n",
    "    |> Seq.map asCartesianChange"
   ]
  },
  {
   "cell_type": "code",
   "execution_count": null,
   "metadata": {
    "dotnet_interactive": {
     "language": "fsharp"
    }
   },
   "outputs": [
    {
     "data": {
      "text/html": [
       "<div class=\"dni-plaintext\">1524750</div>"
      ]
     },
     "metadata": {},
     "output_type": "display_data"
    }
   ],
   "source": [
    "let moveSubmarine (horizontal, depth) (forwardChange, depthChange) =\n",
    "    (horizontal + forwardChange, depth + depthChange)\n",
    "\n",
    "let finalLocation =\n",
    "    course\n",
    "    |> Seq.reduce moveSubmarine\n",
    "\n",
    "fst finalLocation * snd finalLocation"
   ]
  },
  {
   "cell_type": "markdown",
   "metadata": {},
   "source": [
    "### Part 2\n",
    "\n",
    "\n",
    "- down X increases your aim by X units.\n",
    "- up X decreases your aim by X units.\n",
    "- forward X does two things:\n",
    "  - It increases your horizontal position by X units.\n",
    "  - It increases your depth by your aim multiplied by X."
   ]
  },
  {
   "cell_type": "code",
   "execution_count": null,
   "metadata": {
    "dotnet_interactive": {
     "language": "fsharp"
    }
   },
   "outputs": [
    {
     "data": {
      "text/html": [
       "<div class=\"dni-plaintext\">1592426537</div>"
      ]
     },
     "metadata": {},
     "output_type": "display_data"
    }
   ],
   "source": [
    "let aimSubmarine (horizontal, depth) (forwardChange, aim) =\n",
    "    (horizontal + forwardChange, depth + forwardChange * aim)\n",
    "\n",
    "let aggregateAim (_, aim) (forwardChange, aimChange) =\n",
    "    (forwardChange, aim + aimChange)\n",
    "\n",
    "let finalLocation =\n",
    "    course\n",
    "    |> Seq.scan aggregateAim (0, 0)\n",
    "    |> Seq.reduce aimSubmarine\n",
    "\n",
    "fst finalLocation * snd finalLocation"
   ]
  },
  {
   "cell_type": "markdown",
   "metadata": {},
   "source": [
    "## Day 3"
   ]
  },
  {
   "cell_type": "markdown",
   "metadata": {},
   "source": [
    "### Part 1\n",
    "\n",
    "- gamma rate can be determined by finding the most common bit in the corresponding position\n",
    "- epsilon rate can be determined by finding the most common bit in the corresponding position\n",
    "- power consumption can then be found by multiplying the gamma rate by the epsilon rate"
   ]
  },
  {
   "cell_type": "code",
   "execution_count": null,
   "metadata": {
    "dotnet_interactive": {
     "language": "fsharp"
    }
   },
   "outputs": [
    {
     "data": {
      "text/html": [
       "<div class=\"dni-plaintext\">1997414</div>"
      ]
     },
     "metadata": {},
     "output_type": "display_data"
    }
   ],
   "source": [
    "let charToBit bit = if bit = '1' then 1 else 0\n",
    "\n",
    "let diagnostics =\n",
    "    fileAsSequence \"./Day 3.txt\"\n",
    "    |> Seq.map Seq.toList\n",
    "    |> Seq.map (Seq.map charToBit)\n",
    "\n",
    "let mostCommonBit = Seq.groupBy id >> Seq.sortByDescending fst >> Seq.maxBy (snd >> Seq.length) >> fst\n",
    "let consumptionRate = Seq.transpose >> Seq.map mostCommonBit\n",
    "\n",
    "let decode adapter = Seq.fold (fun rate bit -> (rate <<< 1) + (adapter bit)) 0\n",
    "\n",
    "let power report =\n",
    "    let consumption = consumptionRate report\n",
    "    let bitMask = ((1 <<< Seq.length consumption) - 1)\n",
    "    let gamma = decode id consumption\n",
    "    let epsilon = ~~~gamma &&& bitMask\n",
    "    gamma * epsilon\n",
    "\n",
    "power diagnostics"
   ]
  },
  {
   "cell_type": "markdown",
   "metadata": {},
   "source": [
    "### Part 2\n",
    "\n",
    "- verify the life support rating, which can be determined by multiplying the oxygen generator rating by the CO2 scrubber rating."
   ]
  },
  {
   "cell_type": "code",
   "execution_count": null,
   "metadata": {
    "dotnet_interactive": {
     "language": "fsharp"
    }
   },
   "outputs": [
    {
     "data": {
      "text/html": [
       "<div class=\"dni-plaintext\">1032597</div>"
      ]
     },
     "metadata": {},
     "output_type": "display_data"
    }
   ],
   "source": [
    "let negate bit = ~~~bit &&& 1\n",
    "let filteredBy orderBy column = Seq.transpose >> Seq.item column >> orderBy\n",
    "let leastCommonBit = mostCommonBit >> negate\n",
    "\n",
    "let lifeSupport commonBitFilter report =\n",
    "    let filterByCommonBit bit data =\n",
    "        let commonBit = commonBitFilter bit data\n",
    "        Seq.filter (fun row -> Seq.item bit row = commonBit) data\n",
    "\n",
    "    let rec getRating bit data =\n",
    "        if Seq.length data = 1\n",
    "        then data\n",
    "        else getRating (bit + 1) (filterByCommonBit bit data)\n",
    "    \n",
    "    (getRating 0 report) |> Seq.head |> (decode id)\n",
    "\n",
    "let oxygenRating = lifeSupport (filteredBy mostCommonBit) diagnostics\n",
    "let scrubberRating = lifeSupport (filteredBy leastCommonBit) diagnostics\n",
    "\n",
    "oxygenRating * scrubberRating"
   ]
  },
  {
   "cell_type": "markdown",
   "metadata": {},
   "source": [
    "## Day 4"
   ]
  },
  {
   "cell_type": "markdown",
   "metadata": {},
   "source": [
    "### Part 1\n",
    "\n",
    "Bingo!"
   ]
  },
  {
   "cell_type": "code",
   "execution_count": null,
   "metadata": {
    "dotnet_interactive": {
     "language": "fsharp"
    }
   },
   "outputs": [
    {
     "data": {
      "text/html": [
       "<table><thead><tr><th><i>index</i></th><th>value</th></tr></thead><tbody><tr><td>0</td><td><div class=\"dni-plaintext\">[ [ 22, 59, 7, 10, 6 ], [ 33, 36, 96, 55, 23 ], [ 13, 85, 18, 29, 28 ], [ 75, 46, 83, 73, 58 ], [ 34, 40, 87, 56, 98 ] ]</div></td></tr><tr><td>1</td><td><div class=\"dni-plaintext\">[ [ 73, 96, 47, 14, 10 ], [ 28, 11, 79, 84, 20 ], [ 74, 30, 0, 59, 71 ], [ 80, 93, 42, 22, 17 ], [ 44, 2, 81, 29, 15 ] ]</div></td></tr><tr><td>2</td><td><div class=\"dni-plaintext\">[ [ 73, 32, 37, 93, 39 ], [ 2, 87, 38, 99, 97 ], [ 15, 12, 42, 49, 33 ], [ 9, 23, 25, 94, 19 ], [ 57, 4, 18, 70, 79 ] ]</div></td></tr><tr><td>3</td><td><div class=\"dni-plaintext\">[ [ 43, 79, 59, 71, 78 ], [ 51, 97, 37, 28, 26 ], [ 46, 21, 84, 8, 86 ], [ 96, 30, 17, 34, 49 ], [ 55, 90, 99, 75, 61 ] ]</div></td></tr><tr><td>4</td><td><div class=\"dni-plaintext\">[ [ 43, 86, 35, 51, 24 ], [ 16, 25, 29, 21, 3 ], [ 2, 13, 4, 36, 54 ], [ 89, 27, 8, 85, 34 ], [ 96, 59, 65, 14, 56 ] ]</div></td></tr><tr><td>5</td><td><div class=\"dni-plaintext\">[ [ 5, 57, 43, 4, 1 ], [ 86, 80, 67, 30, 20 ], [ 22, 16, 99, 0, 14 ], [ 40, 25, 59, 91, 54 ], [ 82, 95, 96, 37, 24 ] ]</div></td></tr><tr><td>6</td><td><div class=\"dni-plaintext\">[ [ 97, 20, 87, 66, 21 ], [ 25, 40, 9, 78, 89 ], [ 52, 75, 95, 63, 62 ], [ 32, 43, 13, 47, 69 ], [ 53, 48, 56, 29, 4 ] ]</div></td></tr><tr><td>7</td><td><div class=\"dni-plaintext\">[ [ 24, 4, 65, 12, 8 ], [ 76, 3, 81, 99, 49 ], [ 45, 33, 31, 66, 34 ], [ 17, 94, 75, 35, 88 ], [ 64, 10, 7, 93, 95 ] ]</div></td></tr><tr><td>8</td><td><div class=\"dni-plaintext\">[ [ 88, 20, 99, 15, 83 ], [ 81, 40, 5, 6, 98 ], [ 49, 74, 18, 27, 9 ], [ 43, 69, 28, 37, 71 ], [ 87, 82, 90, 14, 47 ] ]</div></td></tr><tr><td>9</td><td><div class=\"dni-plaintext\">[ [ 21, 97, 92, 42, 60 ], [ 11, 65, 98, 95, 29 ], [ 2, 49, 75, 20, 74 ], [ 56, 40, 78, 66, 81 ], [ 68, 4, 46, 77, 61 ] ]</div></td></tr><tr><td>10</td><td><div class=\"dni-plaintext\">[ [ 26, 14, 39, 76, 11 ], [ 41, 74, 34, 91, 4 ], [ 51, 9, 97, 29, 75 ], [ 83, 86, 23, 35, 77 ], [ 90, 2, 49, 30, 89 ] ]</div></td></tr><tr><td>11</td><td><div class=\"dni-plaintext\">[ [ 34, 97, 0, 22, 15 ], [ 65, 60, 82, 66, 47 ], [ 30, 9, 49, 95, 48 ], [ 54, 73, 67, 17, 78 ], [ 33, 96, 44, 1, 32 ] ]</div></td></tr><tr><td>12</td><td><div class=\"dni-plaintext\">[ [ 90, 29, 10, 49, 63 ], [ 8, 26, 95, 61, 0 ], [ 54, 13, 51, 12, 44 ], [ 32, 48, 16, 47, 84 ], [ 55, 46, 93, 14, 3 ] ]</div></td></tr><tr><td>13</td><td><div class=\"dni-plaintext\">[ [ 68, 55, 46, 16, 54 ], [ 97, 59, 49, 6, 21 ], [ 52, 32, 15, 96, 70 ], [ 57, 56, 61, 51, 0 ], [ 40, 31, 62, 24, 48 ] ]</div></td></tr><tr><td>14</td><td><div class=\"dni-plaintext\">[ [ 75, 56, 70, 42, 14 ], [ 77, 9, 23, 62, 25 ], [ 29, 27, 54, 17, 2 ], [ 55, 72, 43, 15, 96 ], [ 45, 30, 88, 86, 1 ] ]</div></td></tr><tr><td>15</td><td><div class=\"dni-plaintext\">[ [ 65, 12, 22, 6, 51 ], [ 77, 81, 15, 91, 19 ], [ 80, 71, 27, 89, 52 ], [ 75, 92, 41, 83, 57 ], [ 40, 44, 66, 84, 98 ] ]</div></td></tr><tr><td>16</td><td><div class=\"dni-plaintext\">[ [ 89, 80, 73, 59, 18 ], [ 74, 55, 67, 71, 10 ], [ 78, 27, 37, 57, 3 ], [ 92, 26, 17, 5, 72 ], [ 52, 83, 28, 76, 51 ] ]</div></td></tr><tr><td>17</td><td><div class=\"dni-plaintext\">[ [ 64, 0, 87, 4, 13 ], [ 14, 43, 42, 62, 31 ], [ 17, 84, 72, 91, 83 ], [ 53, 80, 59, 61, 74 ], [ 47, 22, 38, 28, 77 ] ]</div></td></tr><tr><td>18</td><td><div class=\"dni-plaintext\">[ [ 65, 49, 91, 94, 19 ], [ 25, 81, 64, 57, 9 ], [ 50, 95, 82, 12, 66 ], [ 53, 54, 85, 36, 11 ], [ 31, 56, 83, 18, 60 ] ]</div></td></tr><tr><td>19</td><td><div class=\"dni-plaintext\">[ [ 6, 12, 76, 37, 33 ], [ 14, 96, 16, 31, 40 ], [ 17, 82, 27, 94, 83 ], [ 1, 50, 49, 9, 54 ], [ 29, 70, 59, 91, 77 ] ]</div></td></tr><tr><td colspan=\"2\"><i>... (more)</i></td></tr></tbody></table>"
      ]
     },
     "metadata": {},
     "output_type": "display_data"
    }
   ],
   "source": [
    "let bingo =\n",
    "    fileAsSequence \"./Day 4.txt\"\n",
    "\n",
    "let split c (line:string) =\n",
    "    line.Split c\n",
    "\n",
    "let draws =\n",
    "    bingo\n",
    "    |> Seq.head\n",
    "    |> (fun line -> (line.Split ','))\n",
    "    |> Seq.map int\n",
    "\n",
    "let isEmpty line = line = \"\"\n",
    "\n",
    "let parseBoard = (fun (x:string) -> x.Trim().Replace(\"  \", \" \").Split(\" \") |> (Seq.map int))\n",
    "\n",
    "let getBoards boards =\n",
    "    let rows = \n",
    "        boards\n",
    "        |> Seq.skip 1\n",
    "        |> Seq.filter (isEmpty >> not)\n",
    "        |> Seq.map parseBoard\n",
    "    Seq.chunkBySize (Seq.length (Seq.head rows)) rows\n",
    "\n",
    "let boards = getBoards bingo\n",
    "boards"
   ]
  },
  {
   "cell_type": "code",
   "execution_count": null,
   "metadata": {
    "dotnet_interactive": {
     "language": "fsharp"
    }
   },
   "outputs": [
    {
     "data": {
      "text/html": [
       "<div class=\"dni-plaintext\">71708</div>"
      ]
     },
     "metadata": {},
     "output_type": "display_data"
    }
   ],
   "source": [
    "let membership values = Seq.map (fun x -> if (Seq.contains x values) then 1 else 0)\n",
    "let isWin values board = \n",
    "    Seq.concat [board; Seq.transpose board] \n",
    "    |> Seq.map (membership values)\n",
    "    |> Seq.map Seq.sum\n",
    "    |> Seq.contains (board |> Seq.head |> Seq.length)\n",
    "\n",
    "let score drawn board = (board |> Seq.concat |> Seq.filter (fun x -> not (Seq.contains x drawn)) |> Seq.sum) * (Seq.last drawn)\n",
    "\n",
    "let rec playBingo draws boards round =\n",
    "    let drawn = Seq.take round draws\n",
    "    let result = Seq.tryFind (isWin drawn) boards\n",
    "    match (result) with\n",
    "    | None -> playBingo draws boards (round + 1)\n",
    "    | Some board -> score drawn board\n",
    "\n",
    "playBingo draws boards 5"
   ]
  },
  {
   "cell_type": "markdown",
   "metadata": {},
   "source": [
    "### Part 2\n",
    "\n",
    "- figure out which board will win last"
   ]
  },
  {
   "cell_type": "code",
   "execution_count": null,
   "metadata": {
    "dotnet_interactive": {
     "language": "fsharp"
    }
   },
   "outputs": [
    {
     "data": {
      "text/html": [
       "<div class=\"dni-plaintext\">34726</div>"
      ]
     },
     "metadata": {},
     "output_type": "display_data"
    }
   ],
   "source": [
    "let rec findLastWinningBoard draws boards round =\n",
    "    let drawn = List.take round draws\n",
    "    let remainingBoards = List.filter (isWin drawn >> not) boards\n",
    "    if (List.length remainingBoards = 0)\n",
    "    then score drawn (List.head boards)\n",
    "    else findLastWinningBoard draws remainingBoards (round + 1)\n",
    "\n",
    "findLastWinningBoard (draws |> Seq.toList) (boards |> Seq.toList) 5"
   ]
  },
  {
   "cell_type": "markdown",
   "metadata": {},
   "source": [
    "## Day 5"
   ]
  },
  {
   "cell_type": "markdown",
   "metadata": {},
   "source": [
    "### Part 1\n",
    "\n",
    "- count number of points where lines overlap"
   ]
  },
  {
   "cell_type": "code",
   "execution_count": null,
   "metadata": {
    "dotnet_interactive": {
     "language": "fsharp"
    }
   },
   "outputs": [
    {
     "data": {
      "text/html": [
       "<table><thead><tr><th><i>index</i></th><th>value</th></tr></thead><tbody><tr><td>0</td><td><div class=\"dni-plaintext\">[ [ 0, 9 ], [ 5, 9 ] ]</div></td></tr><tr><td>1</td><td><div class=\"dni-plaintext\">[ [ 9, 4 ], [ 3, 4 ] ]</div></td></tr><tr><td>2</td><td><div class=\"dni-plaintext\">[ [ 2, 2 ], [ 2, 1 ] ]</div></td></tr><tr><td>3</td><td><div class=\"dni-plaintext\">[ [ 7, 0 ], [ 7, 4 ] ]</div></td></tr><tr><td>4</td><td><div class=\"dni-plaintext\">[ [ 0, 9 ], [ 2, 9 ] ]</div></td></tr><tr><td>5</td><td><div class=\"dni-plaintext\">[ [ 3, 4 ], [ 1, 4 ] ]</div></td></tr></tbody></table>"
      ]
     },
     "metadata": {},
     "output_type": "display_data"
    }
   ],
   "source": [
    "let parseCoordinates (line: string) = line.Replace(\" -> \", \",\").Split(',') |> Seq.map int |> Seq.chunkBySize 2\n",
    "\n",
    "let coordinates =\n",
    "    fileAsSequence \"./Test.txt\"\n",
    "    |> Seq.map parseCoordinates\n",
    "    |> Seq.map Seq.toList\n",
    "\n",
    "let isLine coordinates =\n",
    "    match coordinates with\n",
    "    | [[|x1;y1|];[|x2;y2|]] -> x1 = x2 || y1 = y2\n",
    "    | _ -> false\n",
    "\n",
    "let findAllLines = Seq.filter isLine\n",
    "let dimensions lines = lines |> Seq.map Seq.transpose |> Seq.transpose |> Seq.map Seq.concat |> Seq.map Seq.max |> Seq.pairwise |> Seq.head\n",
    "\n",
    "let lines = findAllLines coordinates\n",
    "lines"
   ]
  }
 ],
 "metadata": {
  "kernelspec": {
   "display_name": ".NET (C#)",
   "language": "C#",
   "name": ".net-csharp"
  },
  "language_info": {
   "file_extension": ".cs",
   "mimetype": "text/x-csharp",
   "name": "C#",
   "pygments_lexer": "csharp",
   "version": "9.0"
  },
  "orig_nbformat": 4
 },
 "nbformat": 4,
 "nbformat_minor": 2
}
