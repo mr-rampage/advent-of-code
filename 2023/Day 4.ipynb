{
 "cells": [
  {
   "cell_type": "markdown",
   "metadata": {},
   "source": [
    "# Day 4: Scratchcards\n",
    "\n",
    "Picking one up, it looks like each card has two lists of numbers separated by a vertical bar (|): a list of winning numbers and then a list of numbers you have. You organize the information into a table (your puzzle input).\n",
    "\n",
    "As far as the Elf has been able to figure out, you have to figure out which of the numbers you have appear in the list of winning numbers. The first match makes the card worth one point and each match after the first doubles the point value of that card."
   ]
  },
  {
   "cell_type": "markdown",
   "metadata": {},
   "source": [
    "## Part 1"
   ]
  },
  {
   "cell_type": "code",
   "execution_count": 24,
   "metadata": {
    "dotnet_interactive": {
     "language": "fsharp"
    },
    "polyglot_notebook": {
     "kernelName": "fsharp"
    }
   },
   "outputs": [],
   "source": [
    "module Data =\n",
    "    let load fileName =\n",
    "        File.ReadLines fileName\n",
    "\n",
    "module String = \n",
    "    open System.Text.RegularExpressions\n",
    "\n",
    "    let split (token: string) (input: string) = (Regex token).Split(input)\n",
    "        \n",
    "    let trim (input: string) = input.Trim()\n",
    "\n",
    "module Combinators =\n",
    "    let inline C a b c = a c b\n",
    "    let inline K a _ = a\n",
    "    let inline Φ a b c d = a (b d) (c d)\n",
    "    \n",
    "module Math =\n",
    "    let max (a: int) (b: int) =\n",
    "        Math.Max(a, b)\n",
    "    \n",
    "    let pow x y =\n",
    "        Math.Pow(x, y)\n",
    "        \n",
    "module Tuple =\n",
    "    let make a b =\n",
    "        (a, b)\n",
    "\n",
    "type Card =\n",
    "    { Id: int\n",
    "      Winning: int seq \n",
    "      Guesses: int seq }\n",
    "    \n",
    "type WinningCard =\n",
    "    { Id: int\n",
    "      Matches: int seq }\n",
    "    \n",
    "type Rewards =\n",
    "    { Id: int\n",
    "      Copies: int seq }\n",
    "    \n",
    "module Card =\n",
    "    open System.Linq\n",
    "\n",
    "    let private intersect (xs: 'a seq) (ys: 'a seq) = xs.Intersect ys\n",
    "    \n",
    "    let private makeWinningCard id matches =\n",
    "        { Id = id; Matches = matches }\n",
    "\n",
    "    let findWinning (card: Card) =\n",
    "        makeWinningCard card.Id (intersect card.Winning card.Guesses)\n",
    "        \n",
    "    let rewardCopies (card: WinningCard) =\n",
    "        { Id = card.Id; Copies = Seq.init (Seq.length card.Matches) ((+) (card.Id + 1)) }\n",
    "\n",
    "    let getMatches (card: WinningCard) =\n",
    "        card.Matches\n",
    "\n",
    "    let score (xs: 'a seq) =\n",
    "        if Seq.isEmpty xs then\n",
    "            0.0\n",
    "        else\n",
    "            (Seq.length xs - 1)\n",
    "            |> Combinators.C Math.max 0\n",
    "            |> float\n",
    "            |> Math.pow 2\n",
    "            \n",
    "    let private makeCard id (winning, guesses) =\n",
    "        { Id = id; Winning = winning; Guesses = guesses }\n",
    "        \n",
    "    let private addCards number id cards =\n",
    "        let count = cards |> Map.tryFind id |> Option.defaultValue 0\n",
    "        cards |> Map.add id (count + number)\n",
    "        \n",
    "    let countCards cards (rewards: Rewards) =\n",
    "        let added = cards |> addCards 1 rewards.Id\n",
    "        let count = Map.find rewards.Id added\n",
    "        Seq.fold (Combinators.C (addCards count)) added rewards.Copies\n",
    "\n",
    "    let parseId =\n",
    "        String.split \":\"\n",
    "        >> Seq.head\n",
    "        >> String.split \" \"\n",
    "        >> Seq.last\n",
    "        >> int\n",
    "\n",
    "    let parseWinning =\n",
    "        String.split \":\"\n",
    "        >> Seq.last\n",
    "        >> String.trim\n",
    "        >> String.split \"\\|\"\n",
    "        >> Seq.map (String.trim >> String.split \"\\s+\")\n",
    "        >> Seq.map (Seq.map int)\n",
    "        >> Combinators.Φ Tuple.make Seq.head Seq.last\n",
    "        \n",
    "    let parse =\n",
    "        Combinators.Φ makeCard parseId parseWinning"
   ]
  },
  {
   "cell_type": "markdown",
   "metadata": {},
   "source": [
    "### Test"
   ]
  },
  {
   "cell_type": "code",
   "execution_count": 108,
   "metadata": {
    "dotnet_interactive": {
     "language": "fsharp"
    },
    "polyglot_notebook": {
     "kernelName": "fsharp"
    }
   },
   "outputs": [
    {
     "data": {
      "text/html": [
       "<div class=\"dni-plaintext\"><pre>13</pre></div><style>\r\n",
       ".dni-code-hint {\r\n",
       "    font-style: italic;\r\n",
       "    overflow: hidden;\r\n",
       "    white-space: nowrap;\r\n",
       "}\r\n",
       ".dni-treeview {\r\n",
       "    white-space: nowrap;\r\n",
       "}\r\n",
       ".dni-treeview td {\r\n",
       "    vertical-align: top;\r\n",
       "    text-align: start;\r\n",
       "}\r\n",
       "details.dni-treeview {\r\n",
       "    padding-left: 1em;\r\n",
       "}\r\n",
       "table td {\r\n",
       "    text-align: start;\r\n",
       "}\r\n",
       "table tr { \r\n",
       "    vertical-align: top; \r\n",
       "    margin: 0em 0px;\r\n",
       "}\r\n",
       "table tr td pre \r\n",
       "{ \r\n",
       "    vertical-align: top !important; \r\n",
       "    margin: 0em 0px !important;\r\n",
       "} \r\n",
       "table th {\r\n",
       "    text-align: start;\r\n",
       "}\r\n",
       "</style>"
      ]
     },
     "metadata": {},
     "output_type": "display_data"
    }
   ],
   "source": [
    "\"Day 4 - Part 1 - Test.txt\"\n",
    "|> Data.load\n",
    "|> Seq.map (Card.parse >> Card.findWinning >> Card.getMatches >> Card.score)\n",
    "|> Seq.sum"
   ]
  },
  {
   "cell_type": "markdown",
   "metadata": {},
   "source": [
    "### Solution"
   ]
  },
  {
   "cell_type": "code",
   "execution_count": 109,
   "metadata": {
    "dotnet_interactive": {
     "language": "fsharp"
    },
    "polyglot_notebook": {
     "kernelName": "fsharp"
    }
   },
   "outputs": [
    {
     "data": {
      "text/html": [
       "<div class=\"dni-plaintext\"><pre>23441</pre></div><style>\r\n",
       ".dni-code-hint {\r\n",
       "    font-style: italic;\r\n",
       "    overflow: hidden;\r\n",
       "    white-space: nowrap;\r\n",
       "}\r\n",
       ".dni-treeview {\r\n",
       "    white-space: nowrap;\r\n",
       "}\r\n",
       ".dni-treeview td {\r\n",
       "    vertical-align: top;\r\n",
       "    text-align: start;\r\n",
       "}\r\n",
       "details.dni-treeview {\r\n",
       "    padding-left: 1em;\r\n",
       "}\r\n",
       "table td {\r\n",
       "    text-align: start;\r\n",
       "}\r\n",
       "table tr { \r\n",
       "    vertical-align: top; \r\n",
       "    margin: 0em 0px;\r\n",
       "}\r\n",
       "table tr td pre \r\n",
       "{ \r\n",
       "    vertical-align: top !important; \r\n",
       "    margin: 0em 0px !important;\r\n",
       "} \r\n",
       "table th {\r\n",
       "    text-align: start;\r\n",
       "}\r\n",
       "</style>"
      ]
     },
     "metadata": {},
     "output_type": "display_data"
    }
   ],
   "source": [
    "\"Day 4 - Part 1.txt\"\n",
    "|> Data.load\n",
    "|> Seq.map (Card.parse >> Card.findWinning >> Card.getMatches >> Card.score)\n",
    "|> Seq.sum"
   ]
  },
  {
   "cell_type": "markdown",
   "metadata": {},
   "source": [
    "## Part 2"
   ]
  },
  {
   "cell_type": "markdown",
   "metadata": {},
   "source": [
    "### Test"
   ]
  },
  {
   "cell_type": "code",
   "execution_count": 18,
   "metadata": {
    "dotnet_interactive": {
     "language": "fsharp"
    },
    "polyglot_notebook": {
     "kernelName": "fsharp"
    }
   },
   "outputs": [
    {
     "data": {
      "text/html": [
       "<div class=\"dni-plaintext\"><pre>30</pre></div><style>\r\n",
       ".dni-code-hint {\r\n",
       "    font-style: italic;\r\n",
       "    overflow: hidden;\r\n",
       "    white-space: nowrap;\r\n",
       "}\r\n",
       ".dni-treeview {\r\n",
       "    white-space: nowrap;\r\n",
       "}\r\n",
       ".dni-treeview td {\r\n",
       "    vertical-align: top;\r\n",
       "    text-align: start;\r\n",
       "}\r\n",
       "details.dni-treeview {\r\n",
       "    padding-left: 1em;\r\n",
       "}\r\n",
       "table td {\r\n",
       "    text-align: start;\r\n",
       "}\r\n",
       "table tr { \r\n",
       "    vertical-align: top; \r\n",
       "    margin: 0em 0px;\r\n",
       "}\r\n",
       "table tr td pre \r\n",
       "{ \r\n",
       "    vertical-align: top !important; \r\n",
       "    margin: 0em 0px !important;\r\n",
       "} \r\n",
       "table th {\r\n",
       "    text-align: start;\r\n",
       "}\r\n",
       "</style>"
      ]
     },
     "metadata": {},
     "output_type": "display_data"
    }
   ],
   "source": [
    "\"Day 4 - Part 1 - Test.txt\"\n",
    "|> Data.load\n",
    "|> Seq.map (Card.parse >> Card.findWinning >> Card.rewardCopies)\n",
    "|> Seq.fold Card.countCards Map.empty\n",
    "|> Map.values |> Seq.sum"
   ]
  },
  {
   "cell_type": "markdown",
   "metadata": {},
   "source": [
    "### Solution"
   ]
  },
  {
   "cell_type": "code",
   "execution_count": 25,
   "metadata": {
    "dotnet_interactive": {
     "language": "fsharp"
    },
    "polyglot_notebook": {
     "kernelName": "fsharp"
    }
   },
   "outputs": [
    {
     "data": {
      "text/html": [
       "<div class=\"dni-plaintext\"><pre>5923918</pre></div><style>\r\n",
       ".dni-code-hint {\r\n",
       "    font-style: italic;\r\n",
       "    overflow: hidden;\r\n",
       "    white-space: nowrap;\r\n",
       "}\r\n",
       ".dni-treeview {\r\n",
       "    white-space: nowrap;\r\n",
       "}\r\n",
       ".dni-treeview td {\r\n",
       "    vertical-align: top;\r\n",
       "    text-align: start;\r\n",
       "}\r\n",
       "details.dni-treeview {\r\n",
       "    padding-left: 1em;\r\n",
       "}\r\n",
       "table td {\r\n",
       "    text-align: start;\r\n",
       "}\r\n",
       "table tr { \r\n",
       "    vertical-align: top; \r\n",
       "    margin: 0em 0px;\r\n",
       "}\r\n",
       "table tr td pre \r\n",
       "{ \r\n",
       "    vertical-align: top !important; \r\n",
       "    margin: 0em 0px !important;\r\n",
       "} \r\n",
       "table th {\r\n",
       "    text-align: start;\r\n",
       "}\r\n",
       "</style>"
      ]
     },
     "metadata": {},
     "output_type": "display_data"
    }
   ],
   "source": [
    "open System.Collections.Generic\n",
    "\n",
    "\"Day 4 - Part 2.txt\"\n",
    "|> Data.load\n",
    "|> Seq.map (Card.parse >> Card.findWinning >> Card.rewardCopies)\n",
    "|> Seq.fold Card.countCards Map.empty\n",
    "|> Map.values |> Seq.sum"
   ]
  }
 ],
 "metadata": {
  "kernelspec": {
   "display_name": ".NET (F#)",
   "language": "F#",
   "name": ".net-fsharp"
  },
  "language_info": {
   "name": "polyglot-notebook"
  },
  "polyglot_notebook": {
   "kernelInfo": {
    "defaultKernelName": "fsharp",
    "items": [
     {
      "aliases": [],
      "languageName": "fsharp",
      "name": "fsharp"
     }
    ]
   }
  }
 },
 "nbformat": 4,
 "nbformat_minor": 2
}
