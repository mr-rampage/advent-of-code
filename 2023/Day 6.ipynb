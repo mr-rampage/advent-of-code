{
 "cells": [
  {
   "cell_type": "markdown",
   "metadata": {},
   "source": [
    "# Day 6: Wait For It"
   ]
  },
  {
   "cell_type": "markdown",
   "metadata": {},
   "source": [
    "## Part 1"
   ]
  },
  {
   "cell_type": "code",
   "execution_count": 126,
   "metadata": {
    "dotnet_interactive": {
     "language": "fsharp"
    },
    "polyglot_notebook": {
     "kernelName": "fsharp"
    },
    "vscode": {
     "languageId": "polyglot-notebook"
    }
   },
   "outputs": [],
   "source": [
    "module Data =\n",
    "    let load fileName =\n",
    "        File.ReadLines fileName\n",
    "\n",
    "module Combinators =\n",
    "    let inline C a b c = a c b\n",
    "    let inline K a _ = a\n",
    "    let inline Φ a b c d = a (b d) (c d)\n",
    "    let inline S a b c = a c (b c)\n",
    "    let inline Ψ a b c d = a (b c) (b d)\n",
    "    let inline D a b c d = a b (c d)\n",
    "\n",
    "module Regex =\n",
    "    open System.Text.RegularExpressions\n",
    "\n",
    "    let matches (re: Regex) input =\n",
    "        re.Matches input\n",
    "\n",
    "    let strip pattern (input: string) =\n",
    "        Regex.Replace(input, pattern, \"\")\n",
    "\n",
    "    let value (m: Match) =\n",
    "        m.Value\n",
    "\n",
    "type Race =\n",
    "    { Id: int64; Time: int64; Distance: int64 }\n",
    "\n",
    "\n",
    "module Race =\n",
    "    open System.Text.RegularExpressions\n",
    "\n",
    "    let make i t d =\n",
    "        { Id = i; Time = t; Distance = d}\n",
    "\n",
    "    let parse = (Regex.matches (Regex \"\\d+\"))\n",
    "\n",
    "type Scenario =\n",
    "    { Id: int64; Time: int64; Distance: int64; Hold: int64 }\n",
    "\n",
    "module Scenario =\n",
    "    let private makeScenario (race: Race) hold =\n",
    "        { Id = race.Id; Time = race.Time; Distance = race.Distance; Hold = hold }\n",
    "\n",
    "    let getId (scenario: Scenario) =\n",
    "        scenario.Id\n",
    "\n",
    "    let ofRace (race: Race) =\n",
    "        [1L..(race.Time - 1L)]\n",
    "        |> Seq.map (makeScenario race)\n",
    "\n",
    "    let beatsRecord scenario =\n",
    "        (scenario.Time - scenario.Hold) * scenario.Hold > scenario.Distance"
   ]
  },
  {
   "cell_type": "markdown",
   "metadata": {},
   "source": [
    "### Test"
   ]
  },
  {
   "cell_type": "code",
   "execution_count": 127,
   "metadata": {
    "dotnet_interactive": {
     "language": "fsharp"
    },
    "polyglot_notebook": {
     "kernelName": "fsharp"
    },
    "vscode": {
     "languageId": "polyglot-notebook"
    }
   },
   "outputs": [
    {
     "data": {
      "text/html": [
       "<div class=\"dni-plaintext\"><pre>288</pre></div><style>\r\n",
       ".dni-code-hint {\r\n",
       "    font-style: italic;\r\n",
       "    overflow: hidden;\r\n",
       "    white-space: nowrap;\r\n",
       "}\r\n",
       ".dni-treeview {\r\n",
       "    white-space: nowrap;\r\n",
       "}\r\n",
       ".dni-treeview td {\r\n",
       "    vertical-align: top;\r\n",
       "    text-align: start;\r\n",
       "}\r\n",
       "details.dni-treeview {\r\n",
       "    padding-left: 1em;\r\n",
       "}\r\n",
       "table td {\r\n",
       "    text-align: start;\r\n",
       "}\r\n",
       "table tr { \r\n",
       "    vertical-align: top; \r\n",
       "    margin: 0em 0px;\r\n",
       "}\r\n",
       "table tr td pre \r\n",
       "{ \r\n",
       "    vertical-align: top !important; \r\n",
       "    margin: 0em 0px !important;\r\n",
       "} \r\n",
       "table th {\r\n",
       "    text-align: start;\r\n",
       "}\r\n",
       "</style>"
      ]
     },
     "metadata": {},
     "output_type": "display_data"
    }
   ],
   "source": [
    "\"Day 6 - Part 1 - Test.txt\"\n",
    "|> Data.load\n",
    "|> Seq.map Race.parse\n",
    "|> Combinators.Φ Seq.zip Seq.head Seq.last\n",
    "|> Seq.mapi (fun i -> (<||) (Combinators.Ψ (Race.make i) (Regex.value >> int64)))\n",
    "|> Seq.collect Scenario.ofRace\n",
    "|> Seq.filter Scenario.beatsRecord\n",
    "|> Seq.countBy Scenario.getId\n",
    "|> Seq.map snd\n",
    "|> Seq.reduce (*)"
   ]
  },
  {
   "cell_type": "markdown",
   "metadata": {},
   "source": [
    "### Solution"
   ]
  },
  {
   "cell_type": "code",
   "execution_count": 128,
   "metadata": {
    "dotnet_interactive": {
     "language": "fsharp"
    },
    "polyglot_notebook": {
     "kernelName": "fsharp"
    },
    "vscode": {
     "languageId": "polyglot-notebook"
    }
   },
   "outputs": [
    {
     "data": {
      "text/html": [
       "<div class=\"dni-plaintext\"><pre>227850</pre></div><style>\r\n",
       ".dni-code-hint {\r\n",
       "    font-style: italic;\r\n",
       "    overflow: hidden;\r\n",
       "    white-space: nowrap;\r\n",
       "}\r\n",
       ".dni-treeview {\r\n",
       "    white-space: nowrap;\r\n",
       "}\r\n",
       ".dni-treeview td {\r\n",
       "    vertical-align: top;\r\n",
       "    text-align: start;\r\n",
       "}\r\n",
       "details.dni-treeview {\r\n",
       "    padding-left: 1em;\r\n",
       "}\r\n",
       "table td {\r\n",
       "    text-align: start;\r\n",
       "}\r\n",
       "table tr { \r\n",
       "    vertical-align: top; \r\n",
       "    margin: 0em 0px;\r\n",
       "}\r\n",
       "table tr td pre \r\n",
       "{ \r\n",
       "    vertical-align: top !important; \r\n",
       "    margin: 0em 0px !important;\r\n",
       "} \r\n",
       "table th {\r\n",
       "    text-align: start;\r\n",
       "}\r\n",
       "</style>"
      ]
     },
     "metadata": {},
     "output_type": "display_data"
    }
   ],
   "source": [
    "\"Day 6 - Part 1.txt\"\n",
    "|> Data.load\n",
    "|> Seq.map Race.parse\n",
    "|> Combinators.Φ Seq.zip Seq.head Seq.last\n",
    "|> Seq.mapi (fun i -> (<||) (Combinators.Ψ (Race.make i) (Regex.value >> int64)))\n",
    "|> Seq.collect Scenario.ofRace\n",
    "|> Seq.filter Scenario.beatsRecord\n",
    "|> Seq.countBy Scenario.getId\n",
    "|> Seq.map snd\n",
    "|> Seq.reduce (*)"
   ]
  },
  {
   "cell_type": "markdown",
   "metadata": {},
   "source": [
    "## Part 2"
   ]
  },
  {
   "cell_type": "markdown",
   "metadata": {},
   "source": [
    "### Test"
   ]
  },
  {
   "cell_type": "code",
   "execution_count": 129,
   "metadata": {
    "dotnet_interactive": {
     "language": "fsharp"
    },
    "polyglot_notebook": {
     "kernelName": "fsharp"
    },
    "vscode": {
     "languageId": "polyglot-notebook"
    }
   },
   "outputs": [
    {
     "data": {
      "text/html": [
       "<div class=\"dni-plaintext\"><pre>71503</pre></div><style>\r\n",
       ".dni-code-hint {\r\n",
       "    font-style: italic;\r\n",
       "    overflow: hidden;\r\n",
       "    white-space: nowrap;\r\n",
       "}\r\n",
       ".dni-treeview {\r\n",
       "    white-space: nowrap;\r\n",
       "}\r\n",
       ".dni-treeview td {\r\n",
       "    vertical-align: top;\r\n",
       "    text-align: start;\r\n",
       "}\r\n",
       "details.dni-treeview {\r\n",
       "    padding-left: 1em;\r\n",
       "}\r\n",
       "table td {\r\n",
       "    text-align: start;\r\n",
       "}\r\n",
       "table tr { \r\n",
       "    vertical-align: top; \r\n",
       "    margin: 0em 0px;\r\n",
       "}\r\n",
       "table tr td pre \r\n",
       "{ \r\n",
       "    vertical-align: top !important; \r\n",
       "    margin: 0em 0px !important;\r\n",
       "} \r\n",
       "table th {\r\n",
       "    text-align: start;\r\n",
       "}\r\n",
       "</style>"
      ]
     },
     "metadata": {},
     "output_type": "display_data"
    }
   ],
   "source": [
    "\"Day 6 - Part 1 - Test.txt\"\n",
    "|> Data.load\n",
    "|> Seq.map (Regex.strip \"\\s+\")\n",
    "|> Seq.map Race.parse\n",
    "|> Combinators.Φ Seq.zip Seq.head Seq.last\n",
    "|> Seq.mapi (fun i -> (<||) (Combinators.Ψ (Race.make i) (Regex.value >> int64)))\n",
    "|> Seq.collect Scenario.ofRace\n",
    "|> Seq.filter Scenario.beatsRecord\n",
    "|> Seq.length"
   ]
  },
  {
   "cell_type": "markdown",
   "metadata": {},
   "source": [
    "### Solution"
   ]
  },
  {
   "cell_type": "code",
   "execution_count": 130,
   "metadata": {
    "dotnet_interactive": {
     "language": "fsharp"
    },
    "polyglot_notebook": {
     "kernelName": "fsharp"
    },
    "vscode": {
     "languageId": "polyglot-notebook"
    }
   },
   "outputs": [
    {
     "data": {
      "text/html": [
       "<div class=\"dni-plaintext\"><pre>42948149</pre></div><style>\r\n",
       ".dni-code-hint {\r\n",
       "    font-style: italic;\r\n",
       "    overflow: hidden;\r\n",
       "    white-space: nowrap;\r\n",
       "}\r\n",
       ".dni-treeview {\r\n",
       "    white-space: nowrap;\r\n",
       "}\r\n",
       ".dni-treeview td {\r\n",
       "    vertical-align: top;\r\n",
       "    text-align: start;\r\n",
       "}\r\n",
       "details.dni-treeview {\r\n",
       "    padding-left: 1em;\r\n",
       "}\r\n",
       "table td {\r\n",
       "    text-align: start;\r\n",
       "}\r\n",
       "table tr { \r\n",
       "    vertical-align: top; \r\n",
       "    margin: 0em 0px;\r\n",
       "}\r\n",
       "table tr td pre \r\n",
       "{ \r\n",
       "    vertical-align: top !important; \r\n",
       "    margin: 0em 0px !important;\r\n",
       "} \r\n",
       "table th {\r\n",
       "    text-align: start;\r\n",
       "}\r\n",
       "</style>"
      ]
     },
     "metadata": {},
     "output_type": "display_data"
    }
   ],
   "source": [
    "\"Day 6 - Part 1.txt\"\n",
    "|> Data.load\n",
    "|> Seq.map (Regex.strip \"\\s+\")\n",
    "|> Seq.map Race.parse\n",
    "|> Combinators.Φ Seq.zip Seq.head Seq.last\n",
    "|> Seq.mapi (fun i -> (<||) (Combinators.Ψ (Race.make i) (Regex.value >> int64)))\n",
    "|> Seq.collect Scenario.ofRace\n",
    "|> Seq.filter Scenario.beatsRecord\n",
    "|> Seq.length"
   ]
  }
 ],
 "metadata": {
  "language_info": {
   "name": "csharp"
  }
 },
 "nbformat": 4,
 "nbformat_minor": 2
}
