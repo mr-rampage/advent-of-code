{
 "cells": [
  {
   "cell_type": "markdown",
   "metadata": {},
   "source": [
    "# Day 2\n",
    "\n",
    "In game 1, three sets of cubes are revealed from the bag (and then put back again). The first set is 3 blue cubes and 4 red cubes; the second set is 1 red cube, 2 green cubes, and 6 blue cubes; the third set is only 2 green cubes.\n",
    "\n",
    "The Elf would first like to know which games would have been possible if the bag contained only 12 red cubes, 13 green cubes, and 14 blue cubes?"
   ]
  },
  {
   "cell_type": "markdown",
   "metadata": {},
   "source": [
    "## Part 1"
   ]
  },
  {
   "cell_type": "code",
   "execution_count": 128,
   "metadata": {
    "dotnet_interactive": {
     "language": "fsharp"
    },
    "polyglot_notebook": {
     "kernelName": "fsharp"
    },
    "vscode": {
     "languageId": "polyglot-notebook"
    }
   },
   "outputs": [],
   "source": [
    "module Data =\n",
    "    let load fileName =\n",
    "        File.ReadLines fileName\n",
    "        \n",
    "type Cubes =\n",
    "    { Blue:  uint\n",
    "      Red:   uint\n",
    "      Green: uint }\n",
    "\n",
    "type Game =\n",
    "    { Id: uint\n",
    "      Reveals: Cubes seq }\n",
    "    \n",
    "module Game =\n",
    "    let private split (token: string) (input: string) =\n",
    "        input.Split token\n",
    "        \n",
    "    let private trim (input: string) =\n",
    "        input.Trim()\n",
    "\n",
    "    let private parseId =\n",
    "        split \":\"\n",
    "        >> Seq.head\n",
    "        >> split \" \"\n",
    "        >> Seq.last\n",
    "        >> uint\n",
    "\n",
    "    let private makeTuple (pair: string list ) =\n",
    "        match pair with\n",
    "        | [color; count] -> (color, uint count)\n",
    "        | _ -> failwith \"unexpected\"\n",
    "        \n",
    "    let private parseCubes =\n",
    "        trim\n",
    "        >> split \", \"\n",
    "        >> Seq.map (split \" \" >> Seq.rev >> Seq.toList >> makeTuple)\n",
    "\n",
    "    let private countCubes (colour: string) =\n",
    "        Map.tryFind colour \n",
    "        >> Option.defaultValue 0u\n",
    "        \n",
    "    let private makeCubes (cubes: Map<string, uint>) =\n",
    "        { Blue =  countCubes \"blue\" cubes\n",
    "          Red =   countCubes \"red\" cubes\n",
    "          Green = countCubes \"green\" cubes }\n",
    "\n",
    "    let private parseReveals =\n",
    "        split \":\"\n",
    "        >> Seq.last\n",
    "        >> split \";\"\n",
    "        >> Seq.map (parseCubes >> Map >> makeCubes)\n",
    "\n",
    "    let parse (game: string) =\n",
    "        { Id = parseId game\n",
    "          Reveals = parseReveals game }\n",
    "        \n",
    "    let private isLessThanOrEqual (a: Cubes) (b: Cubes) =\n",
    "        b.Blue <= a.Blue\n",
    "        && b.Red <= a.Red\n",
    "        && b.Green <= a.Green\n",
    "\n",
    "    let isPossible (contains: Cubes) (game: Game) =\n",
    "        game.Reveals |> Seq.forall (isLessThanOrEqual contains)\n",
    "\n",
    "    let getId (game: Game) =\n",
    "        game.Id"
   ]
  },
  {
   "cell_type": "markdown",
   "metadata": {},
   "source": [
    "### Test"
   ]
  },
  {
   "cell_type": "code",
   "execution_count": 129,
   "metadata": {
    "dotnet_interactive": {
     "language": "fsharp"
    },
    "polyglot_notebook": {
     "kernelName": "fsharp"
    },
    "vscode": {
     "languageId": "polyglot-notebook"
    }
   },
   "outputs": [
    {
     "data": {
      "text/html": [
       "<div class=\"dni-plaintext\"><pre>8</pre></div><style>\r\n",
       ".dni-code-hint {\r\n",
       "    font-style: italic;\r\n",
       "    overflow: hidden;\r\n",
       "    white-space: nowrap;\r\n",
       "}\r\n",
       ".dni-treeview {\r\n",
       "    white-space: nowrap;\r\n",
       "}\r\n",
       ".dni-treeview td {\r\n",
       "    vertical-align: top;\r\n",
       "    text-align: start;\r\n",
       "}\r\n",
       "details.dni-treeview {\r\n",
       "    padding-left: 1em;\r\n",
       "}\r\n",
       "table td {\r\n",
       "    text-align: start;\r\n",
       "}\r\n",
       "table tr { \r\n",
       "    vertical-align: top; \r\n",
       "    margin: 0em 0px;\r\n",
       "}\r\n",
       "table tr td pre \r\n",
       "{ \r\n",
       "    vertical-align: top !important; \r\n",
       "    margin: 0em 0px !important;\r\n",
       "} \r\n",
       "table th {\r\n",
       "    text-align: start;\r\n",
       "}\r\n",
       "</style>"
      ]
     },
     "metadata": {},
     "output_type": "display_data"
    }
   ],
   "source": [
    "\"Day 2 - Part 1 - Test.txt\"\n",
    "|> Data.load\n",
    "|> Seq.map Game.parse\n",
    "|> Seq.filter (Game.isPossible { Blue = 14u; Red = 12u; Green = 13u })\n",
    "|> Seq.map Game.getId\n",
    "|> Seq.sum"
   ]
  },
  {
   "cell_type": "markdown",
   "metadata": {},
   "source": [
    "### Solution"
   ]
  },
  {
   "cell_type": "code",
   "execution_count": 130,
   "metadata": {
    "dotnet_interactive": {
     "language": "fsharp"
    },
    "polyglot_notebook": {
     "kernelName": "fsharp"
    },
    "vscode": {
     "languageId": "polyglot-notebook"
    }
   },
   "outputs": [
    {
     "data": {
      "text/html": [
       "<div class=\"dni-plaintext\"><pre>2512</pre></div><style>\r\n",
       ".dni-code-hint {\r\n",
       "    font-style: italic;\r\n",
       "    overflow: hidden;\r\n",
       "    white-space: nowrap;\r\n",
       "}\r\n",
       ".dni-treeview {\r\n",
       "    white-space: nowrap;\r\n",
       "}\r\n",
       ".dni-treeview td {\r\n",
       "    vertical-align: top;\r\n",
       "    text-align: start;\r\n",
       "}\r\n",
       "details.dni-treeview {\r\n",
       "    padding-left: 1em;\r\n",
       "}\r\n",
       "table td {\r\n",
       "    text-align: start;\r\n",
       "}\r\n",
       "table tr { \r\n",
       "    vertical-align: top; \r\n",
       "    margin: 0em 0px;\r\n",
       "}\r\n",
       "table tr td pre \r\n",
       "{ \r\n",
       "    vertical-align: top !important; \r\n",
       "    margin: 0em 0px !important;\r\n",
       "} \r\n",
       "table th {\r\n",
       "    text-align: start;\r\n",
       "}\r\n",
       "</style>"
      ]
     },
     "metadata": {},
     "output_type": "display_data"
    }
   ],
   "source": [
    "\"Day 2 - Part 1.txt\"\n",
    "|> Data.load\n",
    "|> Seq.map Game.parse\n",
    "|> Seq.filter (Game.isPossible { Blue = 14u; Red = 12u; Green = 13u })\n",
    "|> Seq.map Game.getId\n",
    "|> Seq.sum"
   ]
  },
  {
   "cell_type": "markdown",
   "metadata": {},
   "source": [
    "## Part 2\n",
    "\n",
    "As you continue your walk, the Elf poses a second question: in each game you played, what is the fewest number of cubes of each color that could have been in the bag to make the game possible?"
   ]
  },
  {
   "cell_type": "code",
   "execution_count": 131,
   "metadata": {
    "dotnet_interactive": {
     "language": "fsharp"
    },
    "polyglot_notebook": {
     "kernelName": "fsharp"
    },
    "vscode": {
     "languageId": "polyglot-notebook"
    }
   },
   "outputs": [],
   "source": [
    "module Game =\n",
    "    let private getLargest (result: Cubes) (current: Cubes) =\n",
    "        { Blue = Math.Max(result.Blue, current.Blue)\n",
    "          Red = Math.Max(result.Red, current.Red)\n",
    "          Green = Math.Max(result.Green, current.Green) }\n",
    "\n",
    "    let makePossible (game: Game) =\n",
    "        game.Reveals\n",
    "        |> Seq.reduce getLargest\n",
    "\n",
    "    let calculatePower (cubes: Cubes) =\n",
    "        cubes.Blue * cubes.Red * cubes.Green"
   ]
  },
  {
   "cell_type": "markdown",
   "metadata": {},
   "source": [
    "### Test"
   ]
  },
  {
   "cell_type": "code",
   "execution_count": 132,
   "metadata": {
    "dotnet_interactive": {
     "language": "fsharp"
    },
    "polyglot_notebook": {
     "kernelName": "fsharp"
    },
    "vscode": {
     "languageId": "polyglot-notebook"
    }
   },
   "outputs": [
    {
     "data": {
      "text/html": [
       "<div class=\"dni-plaintext\"><pre>2286</pre></div><style>\r\n",
       ".dni-code-hint {\r\n",
       "    font-style: italic;\r\n",
       "    overflow: hidden;\r\n",
       "    white-space: nowrap;\r\n",
       "}\r\n",
       ".dni-treeview {\r\n",
       "    white-space: nowrap;\r\n",
       "}\r\n",
       ".dni-treeview td {\r\n",
       "    vertical-align: top;\r\n",
       "    text-align: start;\r\n",
       "}\r\n",
       "details.dni-treeview {\r\n",
       "    padding-left: 1em;\r\n",
       "}\r\n",
       "table td {\r\n",
       "    text-align: start;\r\n",
       "}\r\n",
       "table tr { \r\n",
       "    vertical-align: top; \r\n",
       "    margin: 0em 0px;\r\n",
       "}\r\n",
       "table tr td pre \r\n",
       "{ \r\n",
       "    vertical-align: top !important; \r\n",
       "    margin: 0em 0px !important;\r\n",
       "} \r\n",
       "table th {\r\n",
       "    text-align: start;\r\n",
       "}\r\n",
       "</style>"
      ]
     },
     "metadata": {},
     "output_type": "display_data"
    }
   ],
   "source": [
    "\"Day 2 - Part 1 - Test.txt\"\n",
    "|> Data.load\n",
    "|> Seq.map (Game.parse >> Game.makePossible >> Game.calculatePower)\n",
    "|> Seq.sum"
   ]
  },
  {
   "cell_type": "markdown",
   "metadata": {},
   "source": [
    "### Solution"
   ]
  },
  {
   "cell_type": "code",
   "execution_count": 133,
   "metadata": {
    "dotnet_interactive": {
     "language": "fsharp"
    },
    "polyglot_notebook": {
     "kernelName": "fsharp"
    },
    "vscode": {
     "languageId": "polyglot-notebook"
    }
   },
   "outputs": [
    {
     "data": {
      "text/html": [
       "<div class=\"dni-plaintext\"><pre>67335</pre></div><style>\r\n",
       ".dni-code-hint {\r\n",
       "    font-style: italic;\r\n",
       "    overflow: hidden;\r\n",
       "    white-space: nowrap;\r\n",
       "}\r\n",
       ".dni-treeview {\r\n",
       "    white-space: nowrap;\r\n",
       "}\r\n",
       ".dni-treeview td {\r\n",
       "    vertical-align: top;\r\n",
       "    text-align: start;\r\n",
       "}\r\n",
       "details.dni-treeview {\r\n",
       "    padding-left: 1em;\r\n",
       "}\r\n",
       "table td {\r\n",
       "    text-align: start;\r\n",
       "}\r\n",
       "table tr { \r\n",
       "    vertical-align: top; \r\n",
       "    margin: 0em 0px;\r\n",
       "}\r\n",
       "table tr td pre \r\n",
       "{ \r\n",
       "    vertical-align: top !important; \r\n",
       "    margin: 0em 0px !important;\r\n",
       "} \r\n",
       "table th {\r\n",
       "    text-align: start;\r\n",
       "}\r\n",
       "</style>"
      ]
     },
     "metadata": {},
     "output_type": "display_data"
    }
   ],
   "source": [
    "\"Day 2 - Part 2.txt\"\n",
    "|> Data.load\n",
    "|> Seq.map (Game.parse >> Game.makePossible >> Game.calculatePower)\n",
    "|> Seq.sum"
   ]
  }
 ],
 "metadata": {
  "language_info": {
   "name": "python"
  }
 },
 "nbformat": 4,
 "nbformat_minor": 2
}
