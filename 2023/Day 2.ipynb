{
 "cells": [
  {
   "cell_type": "markdown",
   "metadata": {},
   "source": [
    "# Day 2\n",
    "\n",
    "In game 1, three sets of cubes are revealed from the bag (and then put back again). The first set is 3 blue cubes and 4 red cubes; the second set is 1 red cube, 2 green cubes, and 6 blue cubes; the third set is only 2 green cubes.\n",
    "\n",
    "The Elf would first like to know which games would have been possible if the bag contained only 12 red cubes, 13 green cubes, and 14 blue cubes?"
   ]
  },
  {
   "cell_type": "markdown",
   "metadata": {},
   "source": [
    "## Part 1"
   ]
  },
  {
   "cell_type": "code",
   "execution_count": 238,
   "metadata": {
    "dotnet_interactive": {
     "language": "fsharp"
    },
    "polyglot_notebook": {
     "kernelName": "fsharp"
    },
    "vscode": {
     "languageId": "polyglot-notebook"
    }
   },
   "outputs": [],
   "source": [
    "module Data =\n",
    "    let load fileName =\n",
    "        File.ReadLines fileName\n",
    "\n",
    "module Combinator =\n",
    "    let Φ a b c d = a (b d) (c d)\n",
    "    let S a b c = (a c) (b c)\n",
    "        \n",
    "type Cubes =\n",
    "    { Blue:  uint\n",
    "      Red:   uint\n",
    "      Green: uint }\n",
    "\n",
    "type Game =\n",
    "    { Id: uint\n",
    "      Reveals: Cubes seq }\n",
    "\n",
    "module Game =\n",
    "    open Combinator\n",
    "\n",
    "    let private makeTuple a b = (a, b)\n",
    "    \n",
    "    let private makeGame id reveals = { Id = id; Reveals = reveals }\n",
    "\n",
    "    let private makeCubes b r g = { Blue = b; Red = r; Green = g }\n",
    "\n",
    "    let private split (token: string) (input: string) = input.Split token\n",
    "        \n",
    "    let private trim (input: string) = input.Trim()\n",
    "\n",
    "    let private parseId = \n",
    "        split \":\" >> Seq.head >> split \" \" >> Seq.last >> uint\n",
    "\n",
    "    let private countCubes colour =\n",
    "        Map.tryFind colour >> Option.defaultValue 0u\n",
    "        \n",
    "    let private toCubes =\n",
    "        S (Φ makeCubes (countCubes \"blue\") (countCubes \"red\")) (countCubes \"green\")\n",
    "        \n",
    "    let private parseCubesToPairs =\n",
    "        split \" \" >> (Φ makeTuple Seq.last (Seq.head >> uint))\n",
    "\n",
    "    let private parseCubes =\n",
    "        trim >> split \", \" >> Seq.map parseCubesToPairs >> Map >> toCubes\n",
    "\n",
    "    let private parseReveals =\n",
    "        split \":\" >> Seq.last >> split \";\" >> Seq.map parseCubes\n",
    "\n",
    "    let private isLessThanOrEqual (a: Cubes) (b: Cubes) =\n",
    "        b.Blue <= a.Blue && b.Red <= a.Red && b.Green <= a.Green\n",
    "\n",
    "    let getId (game: Game) = game.Id\n",
    "    \n",
    "    let parse =\n",
    "        Φ makeGame parseId parseReveals\n",
    "\n",
    "    let isPossible (contains: Cubes) (game: Game)=\n",
    "        game.Reveals |> (Seq.forall (isLessThanOrEqual contains))\n"
   ]
  },
  {
   "cell_type": "markdown",
   "metadata": {},
   "source": [
    "### Test"
   ]
  },
  {
   "cell_type": "code",
   "execution_count": 239,
   "metadata": {
    "dotnet_interactive": {
     "language": "fsharp"
    },
    "polyglot_notebook": {
     "kernelName": "fsharp"
    },
    "vscode": {
     "languageId": "polyglot-notebook"
    }
   },
   "outputs": [
    {
     "data": {
      "text/html": [
       "<div class=\"dni-plaintext\"><pre>8</pre></div><style>\r\n",
       ".dni-code-hint {\r\n",
       "    font-style: italic;\r\n",
       "    overflow: hidden;\r\n",
       "    white-space: nowrap;\r\n",
       "}\r\n",
       ".dni-treeview {\r\n",
       "    white-space: nowrap;\r\n",
       "}\r\n",
       ".dni-treeview td {\r\n",
       "    vertical-align: top;\r\n",
       "    text-align: start;\r\n",
       "}\r\n",
       "details.dni-treeview {\r\n",
       "    padding-left: 1em;\r\n",
       "}\r\n",
       "table td {\r\n",
       "    text-align: start;\r\n",
       "}\r\n",
       "table tr { \r\n",
       "    vertical-align: top; \r\n",
       "    margin: 0em 0px;\r\n",
       "}\r\n",
       "table tr td pre \r\n",
       "{ \r\n",
       "    vertical-align: top !important; \r\n",
       "    margin: 0em 0px !important;\r\n",
       "} \r\n",
       "table th {\r\n",
       "    text-align: start;\r\n",
       "}\r\n",
       "</style>"
      ]
     },
     "metadata": {},
     "output_type": "display_data"
    }
   ],
   "source": [
    "\"Day 2 - Part 1 - Test.txt\"\n",
    "|> Data.load\n",
    "|> Seq.map Game.parse\n",
    "|> Seq.filter (Game.isPossible { Blue = 14u; Red = 12u; Green = 13u })\n",
    "|> Seq.map Game.getId\n",
    "|> Seq.sum"
   ]
  },
  {
   "cell_type": "markdown",
   "metadata": {},
   "source": [
    "### Solution"
   ]
  },
  {
   "cell_type": "code",
   "execution_count": 240,
   "metadata": {
    "dotnet_interactive": {
     "language": "fsharp"
    },
    "polyglot_notebook": {
     "kernelName": "fsharp"
    },
    "vscode": {
     "languageId": "polyglot-notebook"
    }
   },
   "outputs": [
    {
     "data": {
      "text/html": [
       "<div class=\"dni-plaintext\"><pre>2512</pre></div><style>\r\n",
       ".dni-code-hint {\r\n",
       "    font-style: italic;\r\n",
       "    overflow: hidden;\r\n",
       "    white-space: nowrap;\r\n",
       "}\r\n",
       ".dni-treeview {\r\n",
       "    white-space: nowrap;\r\n",
       "}\r\n",
       ".dni-treeview td {\r\n",
       "    vertical-align: top;\r\n",
       "    text-align: start;\r\n",
       "}\r\n",
       "details.dni-treeview {\r\n",
       "    padding-left: 1em;\r\n",
       "}\r\n",
       "table td {\r\n",
       "    text-align: start;\r\n",
       "}\r\n",
       "table tr { \r\n",
       "    vertical-align: top; \r\n",
       "    margin: 0em 0px;\r\n",
       "}\r\n",
       "table tr td pre \r\n",
       "{ \r\n",
       "    vertical-align: top !important; \r\n",
       "    margin: 0em 0px !important;\r\n",
       "} \r\n",
       "table th {\r\n",
       "    text-align: start;\r\n",
       "}\r\n",
       "</style>"
      ]
     },
     "metadata": {},
     "output_type": "display_data"
    }
   ],
   "source": [
    "\"Day 2 - Part 1.txt\"\n",
    "|> Data.load\n",
    "|> Seq.map Game.parse\n",
    "|> Seq.filter (Game.isPossible { Blue = 14u; Red = 12u; Green = 13u })\n",
    "|> Seq.map Game.getId\n",
    "|> Seq.sum"
   ]
  },
  {
   "cell_type": "markdown",
   "metadata": {},
   "source": [
    "## Part 2\n",
    "\n",
    "As you continue your walk, the Elf poses a second question: in each game you played, what is the fewest number of cubes of each color that could have been in the bag to make the game possible?"
   ]
  },
  {
   "cell_type": "code",
   "execution_count": 241,
   "metadata": {
    "dotnet_interactive": {
     "language": "fsharp"
    },
    "polyglot_notebook": {
     "kernelName": "fsharp"
    },
    "vscode": {
     "languageId": "polyglot-notebook"
    }
   },
   "outputs": [],
   "source": [
    "module Game =\n",
    "    let private getLargest (result: Cubes) (current: Cubes) =\n",
    "        { Blue = Math.Max(result.Blue, current.Blue)\n",
    "          Red = Math.Max(result.Red, current.Red)\n",
    "          Green = Math.Max(result.Green, current.Green) }\n",
    "\n",
    "    let makePossible (game: Game) =\n",
    "        game.Reveals |> Seq.reduce getLargest\n",
    "\n",
    "    let calculatePower (cubes: Cubes) =\n",
    "        cubes.Blue * cubes.Red * cubes.Green"
   ]
  },
  {
   "cell_type": "markdown",
   "metadata": {},
   "source": [
    "### Test"
   ]
  },
  {
   "cell_type": "code",
   "execution_count": 242,
   "metadata": {
    "dotnet_interactive": {
     "language": "fsharp"
    },
    "polyglot_notebook": {
     "kernelName": "fsharp"
    },
    "vscode": {
     "languageId": "polyglot-notebook"
    }
   },
   "outputs": [
    {
     "data": {
      "text/html": [
       "<div class=\"dni-plaintext\"><pre>2286</pre></div><style>\r\n",
       ".dni-code-hint {\r\n",
       "    font-style: italic;\r\n",
       "    overflow: hidden;\r\n",
       "    white-space: nowrap;\r\n",
       "}\r\n",
       ".dni-treeview {\r\n",
       "    white-space: nowrap;\r\n",
       "}\r\n",
       ".dni-treeview td {\r\n",
       "    vertical-align: top;\r\n",
       "    text-align: start;\r\n",
       "}\r\n",
       "details.dni-treeview {\r\n",
       "    padding-left: 1em;\r\n",
       "}\r\n",
       "table td {\r\n",
       "    text-align: start;\r\n",
       "}\r\n",
       "table tr { \r\n",
       "    vertical-align: top; \r\n",
       "    margin: 0em 0px;\r\n",
       "}\r\n",
       "table tr td pre \r\n",
       "{ \r\n",
       "    vertical-align: top !important; \r\n",
       "    margin: 0em 0px !important;\r\n",
       "} \r\n",
       "table th {\r\n",
       "    text-align: start;\r\n",
       "}\r\n",
       "</style>"
      ]
     },
     "metadata": {},
     "output_type": "display_data"
    }
   ],
   "source": [
    "\"Day 2 - Part 1 - Test.txt\"\n",
    "|> Data.load\n",
    "|> Seq.map (Game.parse >> Game.makePossible >> Game.calculatePower)\n",
    "|> Seq.sum"
   ]
  },
  {
   "cell_type": "markdown",
   "metadata": {},
   "source": [
    "### Solution"
   ]
  },
  {
   "cell_type": "code",
   "execution_count": 243,
   "metadata": {
    "dotnet_interactive": {
     "language": "fsharp"
    },
    "polyglot_notebook": {
     "kernelName": "fsharp"
    },
    "vscode": {
     "languageId": "polyglot-notebook"
    }
   },
   "outputs": [
    {
     "data": {
      "text/html": [
       "<div class=\"dni-plaintext\"><pre>67335</pre></div><style>\r\n",
       ".dni-code-hint {\r\n",
       "    font-style: italic;\r\n",
       "    overflow: hidden;\r\n",
       "    white-space: nowrap;\r\n",
       "}\r\n",
       ".dni-treeview {\r\n",
       "    white-space: nowrap;\r\n",
       "}\r\n",
       ".dni-treeview td {\r\n",
       "    vertical-align: top;\r\n",
       "    text-align: start;\r\n",
       "}\r\n",
       "details.dni-treeview {\r\n",
       "    padding-left: 1em;\r\n",
       "}\r\n",
       "table td {\r\n",
       "    text-align: start;\r\n",
       "}\r\n",
       "table tr { \r\n",
       "    vertical-align: top; \r\n",
       "    margin: 0em 0px;\r\n",
       "}\r\n",
       "table tr td pre \r\n",
       "{ \r\n",
       "    vertical-align: top !important; \r\n",
       "    margin: 0em 0px !important;\r\n",
       "} \r\n",
       "table th {\r\n",
       "    text-align: start;\r\n",
       "}\r\n",
       "</style>"
      ]
     },
     "metadata": {},
     "output_type": "display_data"
    }
   ],
   "source": [
    "\"Day 2 - Part 2.txt\"\n",
    "|> Data.load\n",
    "|> Seq.map (Game.parse >> Game.makePossible >> Game.calculatePower)\n",
    "|> Seq.sum"
   ]
  }
 ],
 "metadata": {
  "language_info": {
   "name": "python"
  }
 },
 "nbformat": 4,
 "nbformat_minor": 2
}
