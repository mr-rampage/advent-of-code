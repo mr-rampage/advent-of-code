{
 "cells": [
  {
   "cell_type": "markdown",
   "metadata": {},
   "source": [
    "# Day 4: Camp Cleanup\n",
    "\n",
    "Space needs to be cleared before the last supplies can be unloaded from the ships, and so several Elves have been assigned the job of cleaning up sections of the camp. Every section has a unique ID number, and each Elf is assigned a range of section IDs.\n",
    "\n",
    "To try to quickly find overlaps and reduce duplicated effort, the Elves pair up and make a big list of the section assignments for each pair (your puzzle input)."
   ]
  },
  {
   "cell_type": "code",
   "execution_count": 95,
   "metadata": {
    "dotnet_interactive": {
     "language": "fsharp"
    },
    "vscode": {
     "languageId": "dotnet-interactive.fsharp"
    }
   },
   "outputs": [],
   "source": [
    "let toRange (min, max) =\n",
    "    [min..max]\n",
    "\n",
    "let firstPair xs =\n",
    "    xs \n",
    "    |> Seq.pairwise\n",
    "    |> Seq.head\n",
    "\n",
    "let createSection (section: string) =\n",
    "    section.Split '-'\n",
    "    |> Seq.map Int32.Parse\n",
    "    |> firstPair\n",
    "    |> toRange\n",
    "\n",
    "let createSectionPair (sectionPair: string) =\n",
    "    sectionPair.Split ','\n",
    "    |> Seq.map createSection\n",
    "    |> firstPair\n",
    "\n",
    "let sectionPairs =\n",
    "    File.ReadAllLines(\"Day4.txt\")\n",
    "    |> Seq.map createSectionPair"
   ]
  },
  {
   "cell_type": "markdown",
   "metadata": {},
   "source": [
    "In how many assignment pairs does one range fully contain the other?"
   ]
  },
  {
   "cell_type": "code",
   "execution_count": 96,
   "metadata": {
    "dotnet_interactive": {
     "language": "fsharp"
    },
    "vscode": {
     "languageId": "dotnet-interactive.fsharp"
    }
   },
   "outputs": [
    {
     "data": {
      "text/html": [
       "<div class=\"dni-plaintext\">464</div>"
      ]
     },
     "metadata": {},
     "output_type": "display_data"
    }
   ],
   "source": [
    "let fullyOverlaps (elf1, elf2) =\n",
    "    let section1 = set elf1\n",
    "    let section2 = set elf2\n",
    "    Set.intersect section1 section2 = section1\n",
    "    || Set.intersect section1 section2 = section2\n",
    "\n",
    "sectionPairs\n",
    "    |> Seq.filter fullyOverlaps\n",
    "    |> Seq.length"
   ]
  },
  {
   "cell_type": "markdown",
   "metadata": {},
   "source": [
    "In how many assignment pairs do the ranges overlap?"
   ]
  },
  {
   "cell_type": "code",
   "execution_count": 97,
   "metadata": {
    "dotnet_interactive": {
     "language": "fsharp"
    },
    "vscode": {
     "languageId": "dotnet-interactive.fsharp"
    }
   },
   "outputs": [
    {
     "data": {
      "text/html": [
       "<div class=\"dni-plaintext\">770</div>"
      ]
     },
     "metadata": {},
     "output_type": "display_data"
    }
   ],
   "source": [
    "let overlaps (elf1, elf2) =\n",
    "    Set.intersect (set elf1) (set elf2)\n",
    "    |> Seq.length\n",
    "\n",
    "sectionPairs\n",
    "    |> Seq.map overlaps\n",
    "    |> Seq.filter (fun len -> len > 0)\n",
    "    |> Seq.length"
   ]
  }
 ],
 "metadata": {
  "kernelspec": {
   "display_name": ".NET (C#)",
   "language": "C#",
   "name": ".net-csharp"
  },
  "language_info": {
   "file_extension": ".cs",
   "mimetype": "text/x-csharp",
   "name": "C#",
   "pygments_lexer": "csharp",
   "version": "9.0"
  },
  "orig_nbformat": 4
 },
 "nbformat": 4,
 "nbformat_minor": 2
}
