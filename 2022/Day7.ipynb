{
 "cells": [
  {
   "cell_type": "markdown",
   "metadata": {
    "dotnet_interactive": {
     "language": "csharp"
    },
    "polyglot_notebook": {
     "kernelName": "csharp"
    }
   },
   "source": [
    "# Day 7: No Space Left On Device"
   ]
  },
  {
   "cell_type": "code",
   "execution_count": 87,
   "metadata": {
    "dotnet_interactive": {
     "language": "fsharp"
    },
    "vscode": {
     "languageId": "polyglot-notebook"
    }
   },
   "outputs": [],
   "source": [
    "open System.Text.RegularExpressions\n",
    "\n",
    "let extract pattern content =\n",
    "    Regex.Matches(content, pattern)\n",
    "    |> Seq.map (fun m -> m.Value)\n",
    "\n",
    "let (|Match|_|) (pattern: string) (value: string) = \n",
    "    if (Regex.IsMatch(value, pattern)) then\n",
    "        Some (extract pattern value)\n",
    "    else \n",
    "        None\n",
    "\n",
    "let (|Prefix|_|) (pattern: string) (value: string) = \n",
    "    if (value.StartsWith(pattern)) then \n",
    "        Some (value.Remove(0, pattern.Length)) \n",
    "    else \n",
    "        None\n",
    "        \n",
    "let applyRight f (first, second) =\n",
    "    (first, f second)"
   ]
  },
  {
   "cell_type": "code",
   "execution_count": 88,
   "metadata": {
    "dotnet_interactive": {
     "language": "fsharp"
    },
    "polyglot_notebook": {
     "kernelName": "fsharp"
    },
    "vscode": {
     "languageId": "polyglot-notebook"
    }
   },
   "outputs": [],
   "source": [
    "let getCurrentDirectory (current:string) command =\n",
    "    match command with\n",
    "    | \"$ cd /\" -> \"/\"\n",
    "    | \"$ cd ..\" -> current.Substring(0, current.LastIndexOf(\"/\") + 1)\n",
    "    | Prefix \"$ cd \" directory -> current + directory + \"/\"\n",
    "    | _ -> current\n",
    "    \n",
    "let addFiles directory fileSystem file =\n",
    "    match file with\n",
    "    | Match \"^\\d+\" _ -> (directory, file) :: fileSystem\n",
    "    | Prefix \"dir \" folder -> (directory, directory + folder) :: fileSystem\n",
    "    | _ -> fileSystem"
   ]
  },
  {
   "cell_type": "code",
   "execution_count": 89,
   "metadata": {
    "dotnet_interactive": {
     "language": "fsharp"
    },
    "polyglot_notebook": {
     "kernelName": "fsharp"
    },
    "vscode": {
     "languageId": "polyglot-notebook"
    }
   },
   "outputs": [],
   "source": [
    "open System.Collections.Generic\n",
    "\n",
    "let folderSize (fileSystem: IDictionary<string, seq<int>>) folder =\n",
    "    fileSystem.Item folder\n",
    "    |> Seq.sum\n",
    "\n",
    "let fileSize fileSystem file =\n",
    "    match file with\n",
    "    | Match \"^\\d+\" matches -> Seq.head matches |> int\n",
    "    | Prefix \"^dir \" folder -> (folderSize fileSystem folder)\n",
    "    | _ -> 0"
   ]
  },
  {
   "cell_type": "code",
   "execution_count": 91,
   "metadata": {
    "dotnet_interactive": {
     "language": "fsharp"
    },
    "polyglot_notebook": {
     "kernelName": "fsharp"
    },
    "vscode": {
     "languageId": "polyglot-notebook"
    }
   },
   "outputs": [
    {
     "data": {
      "text/html": [
       "<table><thead><tr><th><i>index</i></th><th>Item1</th><th>Item2</th></tr></thead><tbody><tr><td>0</td><td>/a/e/d/</td><td><div class=\"dni-plaintext\"><pre>[ 7214296 k, 5626152 d.ext, 8033020 d.log, 4060174 j ]</pre></div></td></tr><tr><td>1</td><td>/a/e/</td><td><div class=\"dni-plaintext\"><pre>[ 584 i ]</pre></div></td></tr><tr><td>2</td><td>/a/</td><td><div class=\"dni-plaintext\"><pre>[ 62596 h.lst, 2557 g, 29116 f, /a/e ]</pre></div></td></tr><tr><td>3</td><td>/</td><td><div class=\"dni-plaintext\"><pre>[ /d, 8504156 c.dat, 14848514 b.txt, /a ]</pre></div></td></tr></tbody></table><style>\r\n",
       ".dni-code-hint {\r\n",
       "    font-style: italic;\r\n",
       "    overflow: hidden;\r\n",
       "    white-space: nowrap;\r\n",
       "}\r\n",
       ".dni-treeview {\r\n",
       "    white-space: nowrap;\r\n",
       "}\r\n",
       ".dni-treeview td {\r\n",
       "    vertical-align: top;\r\n",
       "    text-align: start;\r\n",
       "}\r\n",
       "details.dni-treeview {\r\n",
       "    padding-left: 1em;\r\n",
       "}\r\n",
       "table td {\r\n",
       "    text-align: start;\r\n",
       "}\r\n",
       "table tr { \r\n",
       "    vertical-align: top; \r\n",
       "    margin: 0em 0px;\r\n",
       "}\r\n",
       "table tr td pre \r\n",
       "{ \r\n",
       "    vertical-align: top !important; \r\n",
       "    margin: 0em 0px !important;\r\n",
       "} \r\n",
       "table th {\r\n",
       "    text-align: start;\r\n",
       "}\r\n",
       "</style>"
      ]
     },
     "metadata": {},
     "output_type": "display_data"
    }
   ],
   "source": [
    "let rec createFileSystem currentDirectory fileSystem commands =\n",
    "    match commands with\n",
    "    | [] -> fileSystem\n",
    "    | command::rest -> \n",
    "        let directory = getCurrentDirectory currentDirectory command \n",
    "        createFileSystem directory (addFiles directory fileSystem command) rest\n",
    "\n",
    "let fs =\n",
    "    File.ReadAllLines(\"Day7 - Test.txt\")\n",
    "    |> Seq.toList\n",
    "    |> createFileSystem \"\" []\n",
    "    |> Seq.ofList\n",
    "\n",
    "fs \n",
    "    |> Seq.groupBy fst\n",
    "    |> Seq.map (applyRight (Seq.map snd))"
   ]
  }
 ],
 "metadata": {
  "kernelspec": {
   "display_name": ".NET (C#)",
   "language": "C#",
   "name": ".net-csharp"
  },
  "polyglot_notebook": {
   "kernelInfo": {
    "defaultKernelName": "csharp",
    "items": [
     {
      "aliases": [
       "c#",
       "C#"
      ],
      "languageName": "C#",
      "name": "csharp"
     },
     {
      "aliases": [
       "frontend"
      ],
      "name": "vscode"
     },
     {
      "aliases": [],
      "name": ".NET"
     },
     {
      "aliases": [
       "f#",
       "F#"
      ],
      "languageName": "F#",
      "name": "fsharp"
     },
     {
      "aliases": [],
      "languageName": "HTML",
      "name": "html"
     },
     {
      "aliases": [
       "js"
      ],
      "languageName": "JavaScript",
      "name": "javascript"
     },
     {
      "aliases": [],
      "languageName": "KQL",
      "name": "kql"
     },
     {
      "aliases": [],
      "languageName": "Mermaid",
      "name": "mermaid"
     },
     {
      "aliases": [
       "powershell"
      ],
      "languageName": "PowerShell",
      "name": "pwsh"
     },
     {
      "aliases": [],
      "languageName": "SQL",
      "name": "sql"
     },
     {
      "aliases": [],
      "name": "value"
     },
     {
      "aliases": [],
      "name": "webview"
     }
    ]
   }
  }
 },
 "nbformat": 4,
 "nbformat_minor": 2
}
