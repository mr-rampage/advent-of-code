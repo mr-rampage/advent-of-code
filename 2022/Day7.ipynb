{
 "cells": [
  {
   "cell_type": "markdown",
   "metadata": {
    "dotnet_interactive": {
     "language": "csharp"
    },
    "polyglot_notebook": {
     "kernelName": "csharp"
    }
   },
   "source": [
    "# Day 7: No Space Left On Device"
   ]
  },
  {
   "cell_type": "code",
   "execution_count": 406,
   "metadata": {
    "dotnet_interactive": {
     "language": "fsharp"
    },
    "vscode": {
     "languageId": "polyglot-notebook"
    }
   },
   "outputs": [],
   "source": [
    "open System.Text.RegularExpressions\n",
    "\n",
    "let extract pattern content =\n",
    "    Regex.Matches(content, pattern)\n",
    "    |> Seq.map (fun m -> m.Value)\n",
    "\n",
    "let (|Match|_|) (pattern: string) (value: string) = \n",
    "    if (Regex.IsMatch(value, pattern)) then\n",
    "        Some (extract pattern value)\n",
    "    else \n",
    "        None\n",
    "\n",
    "let (|Prefix|_|) (pattern: string) (value: string) = \n",
    "    if (value.StartsWith(pattern)) then \n",
    "        Some (value.Remove(0, pattern.Length)) \n",
    "    else \n",
    "        None\n",
    "        \n",
    "let applyRight f (first, second) =\n",
    "    (first, f second)\n",
    "    \n",
    "let countByOccurance c =\n",
    "    Seq.filter (fun x -> x = c) >> Seq.length"
   ]
  },
  {
   "cell_type": "code",
   "execution_count": 407,
   "metadata": {
    "dotnet_interactive": {
     "language": "fsharp"
    },
    "polyglot_notebook": {
     "kernelName": "fsharp"
    },
    "vscode": {
     "languageId": "polyglot-notebook"
    }
   },
   "outputs": [],
   "source": [
    "let getCurrentDirectory (current:string) command =\n",
    "    match command with\n",
    "    | \"$ cd /\" -> \"/\"\n",
    "    | \"$ cd ..\" -> Regex.Replace(current, \"/\\w+?/$\", \"/\")\n",
    "    | Prefix \"$ cd \" directory -> current + directory + \"/\"\n",
    "    | _ -> current\n",
    "    \n",
    "let addFiles directory fileSystem file =\n",
    "    match file with\n",
    "    | Match \"^\\d+\" _ -> (directory, file) :: fileSystem\n",
    "    | Prefix \"dir \" folder -> (directory, directory + folder + \"/\") :: fileSystem\n",
    "    | _ -> fileSystem"
   ]
  },
  {
   "cell_type": "code",
   "execution_count": 408,
   "metadata": {
    "dotnet_interactive": {
     "language": "fsharp"
    },
    "polyglot_notebook": {
     "kernelName": "fsharp"
    },
    "vscode": {
     "languageId": "polyglot-notebook"
    }
   },
   "outputs": [],
   "source": [
    "let rec createFileSystem currentDirectory fileSystem commands =\n",
    "    match commands with\n",
    "    | [] -> fileSystem\n",
    "    | head::tail -> \n",
    "        let directory = getCurrentDirectory currentDirectory head\n",
    "        let update = addFiles directory fileSystem head\n",
    "        createFileSystem directory update tail\n",
    "\n",
    "let findSize fileSystem (content: string) =\n",
    "    match content with\n",
    "    | Match \"^\\d+\" matches -> Seq.head matches |> int\n",
    "    | _ -> (fileSystem |> Seq.find (fun (key, value) ->  key = content) |> snd )\n",
    "    \n",
    "let sizeOf (sizeReport) (directory, contents) =\n",
    "    let size = contents |> Seq.map (findSize sizeReport) |> Seq.sum\n",
    "    (directory, size) :: sizeReport\n",
    "\n",
    "let fs =\n",
    "    File.ReadAllLines(\"Day7.txt\")\n",
    "    |> Seq.toList\n",
    "    |> createFileSystem \"\" []\n",
    "    |> Seq.groupBy fst\n",
    "    |> Seq.map (applyRight (Seq.map snd))\n",
    "    |> Seq.sortByDescending (fst >> countByOccurance '/')\n",
    "    |> Seq.fold sizeOf List.Empty\n",
    "    "
   ]
  },
  {
   "attachments": {},
   "cell_type": "markdown",
   "metadata": {
    "dotnet_interactive": {
     "language": "fsharp"
    },
    "polyglot_notebook": {
     "kernelName": "fsharp"
    }
   },
   "source": [
    "Find all of the directories with a total size of at most 100000. What is the sum of the total sizes of those directories?"
   ]
  },
  {
   "cell_type": "code",
   "execution_count": 409,
   "metadata": {
    "dotnet_interactive": {
     "language": "fsharp"
    },
    "polyglot_notebook": {
     "kernelName": "fsharp"
    },
    "vscode": {
     "languageId": "polyglot-notebook"
    }
   },
   "outputs": [
    {
     "data": {
      "text/html": [
       "<div class=\"dni-plaintext\"><pre>1908462</pre></div><style>\r\n",
       ".dni-code-hint {\r\n",
       "    font-style: italic;\r\n",
       "    overflow: hidden;\r\n",
       "    white-space: nowrap;\r\n",
       "}\r\n",
       ".dni-treeview {\r\n",
       "    white-space: nowrap;\r\n",
       "}\r\n",
       ".dni-treeview td {\r\n",
       "    vertical-align: top;\r\n",
       "    text-align: start;\r\n",
       "}\r\n",
       "details.dni-treeview {\r\n",
       "    padding-left: 1em;\r\n",
       "}\r\n",
       "table td {\r\n",
       "    text-align: start;\r\n",
       "}\r\n",
       "table tr { \r\n",
       "    vertical-align: top; \r\n",
       "    margin: 0em 0px;\r\n",
       "}\r\n",
       "table tr td pre \r\n",
       "{ \r\n",
       "    vertical-align: top !important; \r\n",
       "    margin: 0em 0px !important;\r\n",
       "} \r\n",
       "table th {\r\n",
       "    text-align: start;\r\n",
       "}\r\n",
       "</style>"
      ]
     },
     "metadata": {},
     "output_type": "display_data"
    }
   ],
   "source": [
    "fs\n",
    "|> Seq.filter (snd >> (>=) 100000)\n",
    "|> Seq.map snd\n",
    "|> Seq.sum"
   ]
  },
  {
   "attachments": {},
   "cell_type": "markdown",
   "metadata": {
    "dotnet_interactive": {
     "language": "fsharp"
    },
    "polyglot_notebook": {
     "kernelName": "fsharp"
    }
   },
   "source": [
    "Find the smallest directory that, if deleted, would free up enough space on the filesystem to run the update. What is the total size of that directory?"
   ]
  },
  {
   "cell_type": "code",
   "execution_count": 410,
   "metadata": {
    "dotnet_interactive": {
     "language": "fsharp"
    },
    "polyglot_notebook": {
     "kernelName": "fsharp"
    },
    "vscode": {
     "languageId": "polyglot-notebook"
    }
   },
   "outputs": [
    {
     "data": {
      "text/html": [
       "<div class=\"dni-plaintext\"><pre>3979145</pre></div><style>\r\n",
       ".dni-code-hint {\r\n",
       "    font-style: italic;\r\n",
       "    overflow: hidden;\r\n",
       "    white-space: nowrap;\r\n",
       "}\r\n",
       ".dni-treeview {\r\n",
       "    white-space: nowrap;\r\n",
       "}\r\n",
       ".dni-treeview td {\r\n",
       "    vertical-align: top;\r\n",
       "    text-align: start;\r\n",
       "}\r\n",
       "details.dni-treeview {\r\n",
       "    padding-left: 1em;\r\n",
       "}\r\n",
       "table td {\r\n",
       "    text-align: start;\r\n",
       "}\r\n",
       "table tr { \r\n",
       "    vertical-align: top; \r\n",
       "    margin: 0em 0px;\r\n",
       "}\r\n",
       "table tr td pre \r\n",
       "{ \r\n",
       "    vertical-align: top !important; \r\n",
       "    margin: 0em 0px !important;\r\n",
       "} \r\n",
       "table th {\r\n",
       "    text-align: start;\r\n",
       "}\r\n",
       "</style>"
      ]
     },
     "metadata": {},
     "output_type": "display_data"
    }
   ],
   "source": [
    "let total = 70000000\n",
    "let required = 30000000\n",
    "let used = fs |> Seq.find (fst >> (=) \"/\") |> snd\n",
    "let freeSpace = total - used\n",
    "let deletionSize = required - freeSpace\n",
    "\n",
    "fs\n",
    "|> Seq.filter (snd >> (<=) deletionSize)\n",
    "|> Seq.sortBy snd\n",
    "|> Seq.head\n",
    "|> snd"
   ]
  }
 ],
 "metadata": {
  "kernelspec": {
   "display_name": ".NET (C#)",
   "language": "C#",
   "name": ".net-csharp"
  },
  "polyglot_notebook": {
   "kernelInfo": {
    "defaultKernelName": "csharp",
    "items": [
     {
      "aliases": [
       "c#",
       "C#"
      ],
      "languageName": "C#",
      "name": "csharp"
     },
     {
      "aliases": [
       "frontend"
      ],
      "name": "vscode"
     },
     {
      "aliases": [],
      "name": ".NET"
     },
     {
      "aliases": [
       "f#",
       "F#"
      ],
      "languageName": "F#",
      "name": "fsharp"
     },
     {
      "aliases": [],
      "languageName": "HTML",
      "name": "html"
     },
     {
      "aliases": [
       "js"
      ],
      "languageName": "JavaScript",
      "name": "javascript"
     },
     {
      "aliases": [],
      "languageName": "KQL",
      "name": "kql"
     },
     {
      "aliases": [],
      "languageName": "Mermaid",
      "name": "mermaid"
     },
     {
      "aliases": [
       "powershell"
      ],
      "languageName": "PowerShell",
      "name": "pwsh"
     },
     {
      "aliases": [],
      "languageName": "SQL",
      "name": "sql"
     },
     {
      "aliases": [],
      "name": "value"
     },
     {
      "aliases": [],
      "name": "webview"
     }
    ]
   }
  }
 },
 "nbformat": 4,
 "nbformat_minor": 2
}
