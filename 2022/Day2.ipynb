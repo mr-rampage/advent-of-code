{
 "cells": [
  {
   "cell_type": "markdown",
   "metadata": {},
   "source": [
    "# Day 2: Rock Paper Scissors\n",
    "\n",
    "Your total score is the sum of your scores for each round. The score for a single round is the score for the shape you selected (1 for Rock, 2 for Paper, and 3 for Scissors) plus the score for the outcome of the round (0 if you lost, 3 if the round was a draw, and 6 if you won)."
   ]
  },
  {
   "cell_type": "code",
   "execution_count": 79,
   "metadata": {
    "dotnet_interactive": {
     "language": "fsharp"
    },
    "vscode": {
     "languageId": "dotnet-interactive.fsharp"
    }
   },
   "outputs": [],
   "source": [
    "type RPS = Rock | Paper | Scissors\n",
    "\n",
    "let rpsRules = Map[ Rock, Scissors; Paper, Rock; Scissors, Paper; ]\n",
    "\n",
    "let scoreShape = Map[ Rock, 1; Paper, 2; Scissors, 3; ]\n",
    "\n",
    "let scoreRound opponent myShape =\n",
    "    match opponent with\n",
    "    | x when x = myShape -> 3\n",
    "    | x when rpsRules[x] = myShape -> 0\n",
    "    | _ -> 6\n",
    "\n",
    "let rounds = \n",
    "    File.ReadAllLines(\"Day2.txt\")\n",
    "    |> Seq.map (fun round -> round.Split(\" \"))\n",
    "    |> Seq.map (fun [|a; b|] -> (a, b))\n",
    "    \n",
    "let scoreByShapes (p1, p2) =\n",
    "    scoreShape[p2] + scoreRound p1 p2"
   ]
  },
  {
   "cell_type": "markdown",
   "metadata": {},
   "source": [
    "Find the total score by shape."
   ]
  },
  {
   "cell_type": "code",
   "execution_count": 80,
   "metadata": {
    "dotnet_interactive": {
     "language": "fsharp"
    },
    "vscode": {
     "languageId": "dotnet-interactive.fsharp"
    }
   },
   "outputs": [
    {
     "data": {
      "text/html": [
       "<div class=\"dni-plaintext\">17189</div>"
      ]
     },
     "metadata": {},
     "output_type": "display_data"
    }
   ],
   "source": [
    "let p1ToShape = Map[ \"A\", Rock; \"B\", Paper; \"C\", Scissors; ]\n",
    "\n",
    "let p2ToShape = Map[ \"X\", Rock; \"Y\", Paper; \"Z\", Scissors; ]\n",
    "\n",
    "let getShapesByString (p1, p2) =\n",
    "    (p1ToShape[p1], p2ToShape[p2])\n",
    "    \n",
    "rounds \n",
    "    |> Seq.map getShapesByString \n",
    "    |> Seq.map scoreByShapes\n",
    "    |> Seq.sum"
   ]
  },
  {
   "cell_type": "markdown",
   "metadata": {},
   "source": [
    "Find the total score by round result."
   ]
  },
  {
   "cell_type": "code",
   "execution_count": 81,
   "metadata": {
    "dotnet_interactive": {
     "language": "fsharp"
    },
    "vscode": {
     "languageId": "dotnet-interactive.fsharp"
    }
   },
   "outputs": [
    {
     "data": {
      "text/html": [
       "<div class=\"dni-plaintext\">13490</div>"
      ]
     },
     "metadata": {},
     "output_type": "display_data"
    }
   ],
   "source": [
    "type RoundResult =  Win | Loss | Draw\n",
    "\n",
    "let p2ToRoundResult = Map[\"X\", Loss; \"Y\", Draw; \"Z\", Win; ]\n",
    "\n",
    "let swap (a, b) = (b, a)\n",
    "\n",
    "let invert = Map.toSeq >> Seq.map swap >> Map.ofSeq\n",
    "    \n",
    "let getShapeByResult opponent desiredResult =\n",
    "    match desiredResult with\n",
    "    | Win -> invert(rpsRules)[opponent]\n",
    "    | Draw -> opponent\n",
    "    | Loss -> rpsRules[opponent]\n",
    "    \n",
    "let getShapesByResult (p1, p2) =\n",
    "    let p1Shape = p1ToShape[p1]\n",
    "    let p2Shape = p2ToRoundResult[p2] |> getShapeByResult p1Shape\n",
    "    (p1Shape, p2Shape)\n",
    "    \n",
    "rounds \n",
    "    |> Seq.map getShapesByResult \n",
    "    |> Seq.map scoreByShapes\n",
    "    |> Seq.sum"
   ]
  }
 ],
 "metadata": {
  "kernelspec": {
   "display_name": ".NET (C#)",
   "language": "C#",
   "name": ".net-csharp"
  },
  "language_info": {
   "file_extension": ".cs",
   "mimetype": "text/x-csharp",
   "name": "C#",
   "pygments_lexer": "csharp",
   "version": "9.0"
  },
  "orig_nbformat": 4
 },
 "nbformat": 4,
 "nbformat_minor": 2
}
