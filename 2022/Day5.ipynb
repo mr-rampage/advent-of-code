{
 "cells": [
  {
   "cell_type": "markdown",
   "metadata": {},
   "source": [
    "# Day 5: Supply Stacks"
   ]
  },
  {
   "cell_type": "markdown",
   "metadata": {},
   "source": [
    "The ship has a giant cargo crane capable of moving crates between stacks. To ensure none of the crates get crushed or fall over, the crane operator will rearrange them in a series of carefully-planned steps. After the crates are rearranged, the desired crates will be at the top of each stack."
   ]
  },
  {
   "cell_type": "code",
   "execution_count": 22,
   "metadata": {
    "dotnet_interactive": {
     "language": "fsharp"
    },
    "vscode": {
     "languageId": "dotnet-interactive.fsharp"
    }
   },
   "outputs": [],
   "source": [
    "let s_ f g x =\n",
    "    f (g x) x\n",
    "\n",
    "let partitionOn content xs =\n",
    "    ( \n",
    "        xs |> Seq.takeWhile ((<>) content), \n",
    "        xs |> Seq.skipWhile ((<>) content) |> Seq.skip 1\n",
    "    )\n",
    "\n",
    "let crates =\n",
    "    s_ Seq.except (Seq.last >> Seq.singleton)\n",
    "    >> Seq.filter ((<>) ' ')\n",
    "    >> Seq.toList\n",
    "\n",
    "let parseStacks (lines: seq<String>) =\n",
    "    lines\n",
    "    |> Seq.transpose\n",
    "    |> Seq.filter (Seq.last >> (<>) ' ')\n",
    "    |> Seq.map crates\n",
    "    |> Seq.toList\n",
    "\n",
    "let data =\n",
    "    File.ReadAllLines(\"Day5.txt\")\n",
    "    |> partitionOn String.Empty"
   ]
  },
  {
   "cell_type": "markdown",
   "metadata": {},
   "source": [
    "After the rearrangement procedure completes, what crate ends up on top of each stack?"
   ]
  },
  {
   "cell_type": "code",
   "execution_count": 23,
   "metadata": {
    "dotnet_interactive": {
     "language": "fsharp"
    },
    "vscode": {
     "languageId": "dotnet-interactive.fsharp"
    }
   },
   "outputs": [
    {
     "data": {
      "text/plain": [
       "FRDSQRRCD"
      ]
     },
     "metadata": {},
     "output_type": "display_data"
    }
   ],
   "source": [
    "open System.Text.RegularExpressions\n",
    "\n",
    "let parseSteps line =\n",
    "    let numbers = \n",
    "        Regex.Matches(line, @\"\\d+\") \n",
    "        |> Seq.map (fun x -> x.Value |> Int32.Parse)\n",
    "    seq {\n",
    "        for i in 1 .. (Seq.item 0 numbers) do        \n",
    "            yield [1; (Seq.item 1 numbers) - 1; (Seq.item 2 numbers) - 1]\n",
    "    }\n",
    "\n",
    "let rearrange count source target moved index stack =\n",
    "    match index with\n",
    "    | i when i = target -> List.append moved stack\n",
    "    | i when i = source -> List.skip count stack\n",
    "    | _ -> stack\n",
    "\n",
    "let execute stacks [count; source; target] =\n",
    "    let moved = stacks |> List.item source |> List.take count\n",
    "    stacks |> List.mapi (rearrange count source target moved)\n",
    "    \n",
    "(snd data)\n",
    "    |> Seq.collect parseSteps\n",
    "    |> Seq.fold execute (parseStacks (fst data))\n",
    "    |> Seq.map Seq.head\n",
    "    |> String.Concat"
   ]
  },
  {
   "cell_type": "markdown",
   "metadata": {},
   "source": [
    "Rearrangement preserves order!\n",
    "\n",
    "After the rearrangement procedure completes, what crate ends up on top of each stack?"
   ]
  },
  {
   "cell_type": "code",
   "execution_count": 24,
   "metadata": {
    "dotnet_interactive": {
     "language": "fsharp"
    },
    "vscode": {
     "languageId": "dotnet-interactive.fsharp"
    }
   },
   "outputs": [
    {
     "data": {
      "text/plain": [
       "HRFTQVWNN"
      ]
     },
     "metadata": {},
     "output_type": "display_data"
    }
   ],
   "source": [
    "let parseSteps line =\n",
    "    Regex.Matches(line, @\"\\d+\") \n",
    "    |> Seq.map (fun x -> x.Value |> Int32.Parse)\n",
    "    |> Seq.mapi (fun i instruction -> if i = 0 then instruction else instruction - 1)\n",
    "    |> Seq.toList\n",
    "\n",
    "(snd data)\n",
    "|> Seq.map parseSteps\n",
    "|> Seq.fold execute (parseStacks (fst data))\n",
    "|> Seq.map Seq.head\n",
    "|> String.Concat"
   ]
  }
 ],
 "metadata": {
  "kernelspec": {
   "display_name": ".NET (C#)",
   "language": "C#",
   "name": ".net-csharp"
  },
  "language_info": {
   "file_extension": ".cs",
   "mimetype": "text/x-csharp",
   "name": "C#",
   "pygments_lexer": "csharp",
   "version": "9.0"
  },
  "orig_nbformat": 4
 },
 "nbformat": 4,
 "nbformat_minor": 2
}
