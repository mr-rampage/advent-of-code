{
 "cells": [
  {
   "cell_type": "markdown",
   "metadata": {
    "dotnet_interactive": {
     "language": "csharp"
    },
    "polyglot_notebook": {
     "kernelName": "csharp"
    }
   },
   "source": [
    "# Day 5: Supply Stacks"
   ]
  },
  {
   "cell_type": "markdown",
   "metadata": {
    "dotnet_interactive": {
     "language": "csharp"
    },
    "polyglot_notebook": {
     "kernelName": "csharp"
    }
   },
   "source": [
    "The ship has a giant cargo crane capable of moving crates between stacks. To ensure none of the crates get crushed or fall over, the crane operator will rearrange them in a series of carefully-planned steps. After the crates are rearranged, the desired crates will be at the top of each stack."
   ]
  },
  {
   "cell_type": "code",
   "execution_count": null,
   "metadata": {
    "dotnet_interactive": {
     "language": "fsharp"
    },
    "vscode": {
     "languageId": "polyglot-notebook"
    }
   },
   "outputs": [],
   "source": [
    "let s_ f g x =\n",
    "    f (g x) x\n",
    "\n",
    "let partitionOn content xs =\n",
    "    ( \n",
    "        xs |> Seq.takeWhile ((<>) content), \n",
    "        xs |> Seq.skipWhile ((<>) content) |> Seq.skip 1\n",
    "    )\n",
    "\n",
    "let crates =\n",
    "    s_ Seq.except (Seq.last >> Seq.singleton)\n",
    "    >> Seq.filter ((<>) ' ')\n",
    "    >> Seq.toList\n",
    "\n",
    "let parseStacks (lines: seq<String>) =\n",
    "    lines\n",
    "    |> Seq.transpose\n",
    "    |> Seq.filter (Seq.last >> (<>) ' ')\n",
    "    |> Seq.map crates\n",
    "    |> Seq.toList\n",
    "\n",
    "let data =\n",
    "    File.ReadAllLines(\"Day5.txt\")\n",
    "    |> partitionOn String.Empty"
   ]
  },
  {
   "cell_type": "markdown",
   "metadata": {
    "dotnet_interactive": {
     "language": "csharp"
    },
    "polyglot_notebook": {
     "kernelName": "csharp"
    }
   },
   "source": [
    "After the rearrangement procedure completes, what crate ends up on top of each stack?"
   ]
  },
  {
   "cell_type": "code",
   "execution_count": null,
   "metadata": {
    "dotnet_interactive": {
     "language": "fsharp"
    },
    "vscode": {
     "languageId": "polyglot-notebook"
    }
   },
   "outputs": [],
   "source": [
    "open System.Text.RegularExpressions\n",
    "\n",
    "let parseSteps line =\n",
    "    let numbers = \n",
    "        Regex.Matches(line, @\"\\d+\") \n",
    "        |> Seq.map (fun x -> x.Value |> int)\n",
    "    seq {\n",
    "        for i in 1 .. (Seq.item 0 numbers) do        \n",
    "            yield [1; (Seq.item 1 numbers) - 1; (Seq.item 2 numbers) - 1]\n",
    "    }\n",
    "\n",
    "let move stacks [count; source; target] =\n",
    "    let moved = stacks |> List.item source |> List.take count\n",
    "    stacks\n",
    "    |> List.updateAt source (List.skip count stacks[source])\n",
    "    |> List.updateAt target (List.append moved stacks[target])\n",
    "    \n",
    "(snd data)\n",
    "    |> Seq.collect parseSteps\n",
    "    |> Seq.fold move (parseStacks (fst data))\n",
    "    |> Seq.map Seq.head\n",
    "    |> String.Concat"
   ]
  },
  {
   "cell_type": "markdown",
   "metadata": {
    "dotnet_interactive": {
     "language": "csharp"
    },
    "polyglot_notebook": {
     "kernelName": "csharp"
    }
   },
   "source": [
    "Rearrangement preserves order!\n",
    "\n",
    "After the rearrangement procedure completes, what crate ends up on top of each stack?"
   ]
  },
  {
   "cell_type": "code",
   "execution_count": null,
   "metadata": {
    "dotnet_interactive": {
     "language": "fsharp"
    },
    "vscode": {
     "languageId": "polyglot-notebook"
    }
   },
   "outputs": [],
   "source": [
    "let parseSteps line =\n",
    "    Regex.Matches(line, @\"\\d+\") \n",
    "    |> Seq.map (fun x -> x.Value |> int)\n",
    "    |> Seq.mapi (fun i instruction -> if i = 0 then instruction else instruction - 1)\n",
    "    |> Seq.toList\n",
    "\n",
    "(snd data)\n",
    "    |> Seq.map parseSteps\n",
    "    |> Seq.fold execute (parseStacks (fst data))\n",
    "    |> Seq.map Seq.head\n",
    "    |> String.Concat"
   ]
  }
 ],
 "metadata": {
  "kernelspec": {
   "display_name": ".NET (C#)",
   "language": "C#",
   "name": ".net-csharp"
  },
  "polyglot_notebook": {
   "kernelInfo": {
    "defaultKernelName": "csharp",
    "items": [
     {
      "aliases": [
       "c#",
       "C#"
      ],
      "languageName": "C#",
      "name": "csharp"
     },
     {
      "aliases": [
       "frontend"
      ],
      "name": "vscode"
     },
     {
      "aliases": [],
      "name": ".NET"
     },
     {
      "aliases": [
       "f#",
       "F#"
      ],
      "languageName": "F#",
      "name": "fsharp"
     },
     {
      "aliases": [],
      "languageName": "HTML",
      "name": "html"
     },
     {
      "aliases": [
       "js"
      ],
      "languageName": "JavaScript",
      "name": "javascript"
     },
     {
      "aliases": [],
      "languageName": "KQL",
      "name": "kql"
     },
     {
      "aliases": [],
      "languageName": "Mermaid",
      "name": "mermaid"
     },
     {
      "aliases": [
       "powershell"
      ],
      "languageName": "PowerShell",
      "name": "pwsh"
     },
     {
      "aliases": [],
      "languageName": "SQL",
      "name": "sql"
     },
     {
      "aliases": [],
      "name": "value"
     },
     {
      "aliases": [],
      "name": "webview"
     }
    ]
   }
  }
 },
 "nbformat": 4,
 "nbformat_minor": 2
}
