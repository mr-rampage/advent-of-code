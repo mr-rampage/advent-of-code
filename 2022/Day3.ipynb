{
 "cells": [
  {
   "cell_type": "markdown",
   "metadata": {
    "dotnet_interactive": {
     "language": "csharp"
    },
    "polyglot_notebook": {
     "kernelName": "csharp"
    }
   },
   "source": [
    "# Day 3: Rucksack Reorganization\n",
    "\n",
    "One Elf has the important job of loading all of the rucksacks with supplies for the jungle journey. To help prioritize item rearrangement, every item type can be converted to a priority:\n",
    "\n",
    "- Lowercase item types a through z have priorities 1 through 26.\n",
    "- Uppercase item types A through Z have priorities 27 through 52."
   ]
  },
  {
   "cell_type": "code",
   "execution_count": null,
   "metadata": {
    "dotnet_interactive": {
     "language": "fsharp"
    },
    "vscode": {
     "languageId": "polyglot-notebook"
    }
   },
   "outputs": [],
   "source": [
    "let priorities =\n",
    "    [ 'a' .. 'z' ] @ [ 'A' .. 'Z' ]\n",
    "\n",
    "let getPriority priorities item =\n",
    "    priorities\n",
    "    |> Seq.findIndex (fun x -> x = item) \n",
    "    |> (+) 1\n",
    "\n",
    "let findCommonItems common items =\n",
    "    Set.intersect (set common) (set items)\n",
    "    |> Set.toArray\n",
    "    \n",
    "let sumPriorities inventories =\n",
    "    inventories\n",
    "    |> Seq.map (Seq.reduce findCommonItems >> Seq.head >> getPriority priorities)\n",
    "    |> Seq.sum\n",
    "\n",
    "let rucksacks = \n",
    "    File.ReadAllLines(\"Day3.txt\") \n",
    "    |> Seq.map (fun inventory -> inventory.ToCharArray())"
   ]
  },
  {
   "cell_type": "markdown",
   "metadata": {
    "dotnet_interactive": {
     "language": "csharp"
    },
    "polyglot_notebook": {
     "kernelName": "csharp"
    }
   },
   "source": [
    "Find the item type that appears in both compartments of each rucksack. What is the sum of the priorities of those item types?"
   ]
  },
  {
   "cell_type": "code",
   "execution_count": null,
   "metadata": {
    "dotnet_interactive": {
     "language": "fsharp"
    },
    "vscode": {
     "languageId": "polyglot-notebook"
    }
   },
   "outputs": [],
   "source": [
    "let priorityByCommonItem =\n",
    "    Seq.map (Seq.splitInto 2)\n",
    "    >> sumPriorities\n",
    "    \n",
    "priorityByCommonItem rucksacks"
   ]
  },
  {
   "cell_type": "markdown",
   "metadata": {
    "dotnet_interactive": {
     "language": "csharp"
    },
    "polyglot_notebook": {
     "kernelName": "csharp"
    }
   },
   "source": [
    "Find the item type that corresponds to the badges of each three-Elf group. What is the sum of the priorities of those item types?"
   ]
  },
  {
   "cell_type": "code",
   "execution_count": null,
   "metadata": {
    "dotnet_interactive": {
     "language": "fsharp"
    },
    "vscode": {
     "languageId": "polyglot-notebook"
    }
   },
   "outputs": [],
   "source": [
    "let priorityByBadge =\n",
    "    Seq.chunkBySize 3\n",
    "    >> sumPriorities\n",
    "\n",
    "priorityByBadge rucksacks"
   ]
  }
 ],
 "metadata": {
  "kernelspec": {
   "display_name": ".NET (C#)",
   "language": "C#",
   "name": ".net-csharp"
  },
  "polyglot_notebook": {
   "kernelInfo": {
    "defaultKernelName": "csharp",
    "items": [
     {
      "aliases": [],
      "name": "csharp"
     },
     {
      "aliases": [
       "js"
      ],
      "languageName": "JavaScript",
      "name": "javascript"
     },
     {
      "aliases": [
       "frontend"
      ],
      "name": "vscode"
     },
     {
      "aliases": [],
      "name": "webview"
     }
    ]
   }
  }
 },
 "nbformat": 4,
 "nbformat_minor": 2
}
