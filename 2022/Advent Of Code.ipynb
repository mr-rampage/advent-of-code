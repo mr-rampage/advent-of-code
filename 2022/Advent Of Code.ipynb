{
 "cells": [
  {
   "cell_type": "markdown",
   "metadata": {},
   "source": [
    "# Day 1: Calorie Counting\n",
    "\n",
    "The Elves take turns writing down the number of Calories contained by the various meals, snacks, rations, etc. that they've brought with them, one item per line. Each Elf separates their own inventory from the previous Elf's inventory (if any) by a blank line."
   ]
  },
  {
   "cell_type": "code",
   "execution_count": 76,
   "metadata": {
    "dotnet_interactive": {
     "language": "fsharp"
    },
    "vscode": {
     "languageId": "dotnet-interactive.fsharp"
    }
   },
   "outputs": [],
   "source": [
    "let partitionBy isSeparator lines = \n",
    "    let rec partition groups group xs =\n",
    "        match xs with\n",
    "        | [] -> group::groups\n",
    "        | head :: tail when isSeparator head -> partition (group::groups) [] tail\n",
    "        | head :: tail -> partition groups (head::group) tail\n",
    "    partition [] [] lines\n",
    "    \n",
    "let totalCalories inventory =\n",
    "    inventory\n",
    "    |> Seq.map Int32.Parse\n",
    "    |> Seq.sum\n",
    "\n",
    "let caloriesByItems = \n",
    "    File.ReadAllLines(@\"Day1.txt\") \n",
    "    |> Array.toList\n",
    "\n",
    "let caloriesByElf = \n",
    "    caloriesByItems\n",
    "    |> partitionBy String.IsNullOrEmpty\n",
    "    |> Seq.map totalCalories"
   ]
  },
  {
   "cell_type": "markdown",
   "metadata": {},
   "source": [
    "Find the Elf carrying the most Calories. How many total Calories is that Elf carrying?"
   ]
  },
  {
   "cell_type": "code",
   "execution_count": 77,
   "metadata": {
    "dotnet_interactive": {
     "language": "fsharp"
    },
    "vscode": {
     "languageId": "dotnet-interactive.fsharp"
    }
   },
   "outputs": [
    {
     "data": {
      "text/html": [
       "<div class=\"dni-plaintext\">69310</div>"
      ]
     },
     "metadata": {},
     "output_type": "display_data"
    }
   ],
   "source": [
    "Seq.max caloriesByElf"
   ]
  },
  {
   "cell_type": "markdown",
   "metadata": {},
   "source": [
    "Find the top three Elves carrying the most Calories. How many Calories are those Elves carrying in total?"
   ]
  },
  {
   "cell_type": "code",
   "execution_count": 78,
   "metadata": {
    "dotnet_interactive": {
     "language": "fsharp"
    },
    "vscode": {
     "languageId": "dotnet-interactive.fsharp"
    }
   },
   "outputs": [
    {
     "data": {
      "text/html": [
       "<div class=\"dni-plaintext\">206104</div>"
      ]
     },
     "metadata": {},
     "output_type": "display_data"
    }
   ],
   "source": [
    "caloriesByElf\n",
    "    |> Seq.sortDescending\n",
    "    |> Seq.take 3\n",
    "    |> Seq.sum"
   ]
  },
  {
   "cell_type": "markdown",
   "metadata": {},
   "source": [
    "# Day 2: Rock Paper Scissors\n",
    "\n",
    "Your total score is the sum of your scores for each round. The score for a single round is the score for the shape you selected (1 for Rock, 2 for Paper, and 3 for Scissors) plus the score for the outcome of the round (0 if you lost, 3 if the round was a draw, and 6 if you won)."
   ]
  },
  {
   "cell_type": "code",
   "execution_count": 79,
   "metadata": {
    "dotnet_interactive": {
     "language": "fsharp"
    },
    "vscode": {
     "languageId": "dotnet-interactive.fsharp"
    }
   },
   "outputs": [],
   "source": [
    "type RPS = Rock | Paper | Scissors\n",
    "\n",
    "let rpsRules = Map[ Rock, Scissors; Paper, Rock; Scissors, Paper; ]\n",
    "\n",
    "let scoreShape = Map[ Rock, 1; Paper, 2; Scissors, 3; ]\n",
    "\n",
    "let scoreRound opponent myShape =\n",
    "    match opponent with\n",
    "    | x when x = myShape -> 3\n",
    "    | x when rpsRules[x] = myShape -> 0\n",
    "    | _ -> 6\n",
    "\n",
    "let rounds = \n",
    "    File.ReadAllLines(\"Day2.txt\")\n",
    "    |> Seq.map (fun round -> round.Split(\" \"))\n",
    "    |> Seq.map (fun [|a; b|] -> (a, b))\n",
    "    \n",
    "let scoreByShapes (p1, p2) =\n",
    "    scoreShape[p2] + scoreRound p1 p2"
   ]
  },
  {
   "cell_type": "markdown",
   "metadata": {},
   "source": [
    "Find the total score by shape."
   ]
  },
  {
   "cell_type": "code",
   "execution_count": 80,
   "metadata": {
    "dotnet_interactive": {
     "language": "fsharp"
    },
    "vscode": {
     "languageId": "dotnet-interactive.fsharp"
    }
   },
   "outputs": [
    {
     "data": {
      "text/html": [
       "<div class=\"dni-plaintext\">17189</div>"
      ]
     },
     "metadata": {},
     "output_type": "display_data"
    }
   ],
   "source": [
    "let p1ToShape = Map[ \"A\", Rock; \"B\", Paper; \"C\", Scissors; ]\n",
    "\n",
    "let p2ToShape = Map[ \"X\", Rock; \"Y\", Paper; \"Z\", Scissors; ]\n",
    "\n",
    "let getShapesByString (p1, p2) =\n",
    "    (p1ToShape[p1], p2ToShape[p2])\n",
    "    \n",
    "rounds \n",
    "    |> Seq.map getShapesByString \n",
    "    |> Seq.map scoreByShapes\n",
    "    |> Seq.sum"
   ]
  },
  {
   "cell_type": "markdown",
   "metadata": {},
   "source": [
    "Find the total score by round result."
   ]
  },
  {
   "cell_type": "code",
   "execution_count": 81,
   "metadata": {
    "dotnet_interactive": {
     "language": "fsharp"
    },
    "vscode": {
     "languageId": "dotnet-interactive.fsharp"
    }
   },
   "outputs": [
    {
     "data": {
      "text/html": [
       "<div class=\"dni-plaintext\">13490</div>"
      ]
     },
     "metadata": {},
     "output_type": "display_data"
    }
   ],
   "source": [
    "type RoundResult =  Win | Loss | Draw\n",
    "\n",
    "let p2ToRoundResult = Map[\"X\", Loss; \"Y\", Draw; \"Z\", Win; ]\n",
    "\n",
    "let swap (a, b) = (b, a)\n",
    "\n",
    "let invert = Map.toSeq >> Seq.map swap >> Map.ofSeq\n",
    "    \n",
    "let getShapeByResult opponent desiredResult =\n",
    "    match desiredResult with\n",
    "    | Win -> invert(rpsRules)[opponent]\n",
    "    | Draw -> opponent\n",
    "    | Loss -> rpsRules[opponent]\n",
    "    \n",
    "let getShapesByResult (p1, p2) =\n",
    "    let p1Shape = p1ToShape[p1]\n",
    "    let p2Shape = p2ToRoundResult[p2] |> getShapeByResult p1Shape\n",
    "    (p1Shape, p2Shape)\n",
    "    \n",
    "rounds \n",
    "    |> Seq.map getShapesByResult \n",
    "    |> Seq.map scoreByShapes\n",
    "    |> Seq.sum"
   ]
  },
  {
   "cell_type": "markdown",
   "metadata": {},
   "source": [
    "# Day 3: Rucksack Reorganization\n",
    "\n",
    "One Elf has the important job of loading all of the rucksacks with supplies for the jungle journey. To help prioritize item rearrangement, every item type can be converted to a priority:\n",
    "\n",
    "- Lowercase item types a through z have priorities 1 through 26.\n",
    "- Uppercase item types A through Z have priorities 27 through 52."
   ]
  },
  {
   "cell_type": "code",
   "execution_count": 82,
   "metadata": {
    "dotnet_interactive": {
     "language": "fsharp"
    },
    "vscode": {
     "languageId": "dotnet-interactive.fsharp"
    }
   },
   "outputs": [],
   "source": [
    "let priorities =\n",
    "    [ 'a' .. 'z' ] @ [ 'A' .. 'Z' ]\n",
    "\n",
    "let getPriority priorities item =\n",
    "    priorities\n",
    "    |> Seq.findIndex (fun x -> x = item) \n",
    "    |> (+) 1\n",
    "\n",
    "let findCommonItems common items =\n",
    "    Set.intersect (set common) (set items)\n",
    "    |> Set.toArray\n",
    "    \n",
    "let sumPriorities inventories =\n",
    "    inventories\n",
    "    |> Seq.map (Seq.reduce findCommonItems)\n",
    "    |> Seq.map Seq.head\n",
    "    |> Seq.map (getPriority priorities)\n",
    "    |> Seq.sum\n",
    "\n",
    "let rucksacks = \n",
    "    File.ReadAllLines(\"Day3.txt\") \n",
    "    |> Seq.map (fun inventory -> inventory.ToCharArray())"
   ]
  },
  {
   "cell_type": "markdown",
   "metadata": {},
   "source": [
    "Find the item type that appears in both compartments of each rucksack. What is the sum of the priorities of those item types?"
   ]
  },
  {
   "cell_type": "code",
   "execution_count": 83,
   "metadata": {
    "dotnet_interactive": {
     "language": "fsharp"
    },
    "vscode": {
     "languageId": "dotnet-interactive.fsharp"
    }
   },
   "outputs": [
    {
     "data": {
      "text/html": [
       "<div class=\"dni-plaintext\">8018</div>"
      ]
     },
     "metadata": {},
     "output_type": "display_data"
    }
   ],
   "source": [
    "let priorityByCommonItem =\n",
    "    Seq.map (Seq.splitInto 2)\n",
    "    >> sumPriorities\n",
    "    \n",
    "priorityByCommonItem rucksacks"
   ]
  },
  {
   "cell_type": "markdown",
   "metadata": {},
   "source": [
    "Find the item type that corresponds to the badges of each three-Elf group. What is the sum of the priorities of those item types?"
   ]
  },
  {
   "cell_type": "code",
   "execution_count": 84,
   "metadata": {
    "dotnet_interactive": {
     "language": "fsharp"
    },
    "vscode": {
     "languageId": "dotnet-interactive.fsharp"
    }
   },
   "outputs": [
    {
     "data": {
      "text/html": [
       "<div class=\"dni-plaintext\">2518</div>"
      ]
     },
     "metadata": {},
     "output_type": "display_data"
    }
   ],
   "source": [
    "let priorityByBadge =\n",
    "    Seq.chunkBySize 3\n",
    "    >> sumPriorities\n",
    "\n",
    "priorityByBadge rucksacks"
   ]
  },
  {
   "cell_type": "markdown",
   "metadata": {},
   "source": [
    "# Day 4: Camp Cleanup\n",
    "\n",
    "Space needs to be cleared before the last supplies can be unloaded from the ships, and so several Elves have been assigned the job of cleaning up sections of the camp. Every section has a unique ID number, and each Elf is assigned a range of section IDs.\n",
    "\n",
    "To try to quickly find overlaps and reduce duplicated effort, the Elves pair up and make a big list of the section assignments for each pair (your puzzle input)."
   ]
  },
  {
   "cell_type": "code",
   "execution_count": 95,
   "metadata": {
    "dotnet_interactive": {
     "language": "fsharp"
    },
    "vscode": {
     "languageId": "dotnet-interactive.fsharp"
    }
   },
   "outputs": [],
   "source": [
    "let toRange (min, max) =\n",
    "    [min..max]\n",
    "\n",
    "let firstPair xs =\n",
    "    xs \n",
    "    |> Seq.pairwise\n",
    "    |> Seq.head\n",
    "\n",
    "let createSection (section: string) =\n",
    "    section.Split '-'\n",
    "    |> Seq.map Int32.Parse\n",
    "    |> firstPair\n",
    "    |> toRange\n",
    "\n",
    "let createSectionPair (sectionPair: string) =\n",
    "    sectionPair.Split ','\n",
    "    |> Seq.map createSection\n",
    "    |> firstPair\n",
    "\n",
    "let sectionPairs =\n",
    "    File.ReadAllLines(\"Day4.txt\")\n",
    "    |> Seq.map createSectionPair"
   ]
  },
  {
   "cell_type": "markdown",
   "metadata": {},
   "source": [
    "In how many assignment pairs does one range fully contain the other?"
   ]
  },
  {
   "cell_type": "code",
   "execution_count": 96,
   "metadata": {
    "dotnet_interactive": {
     "language": "fsharp"
    },
    "vscode": {
     "languageId": "dotnet-interactive.fsharp"
    }
   },
   "outputs": [
    {
     "data": {
      "text/html": [
       "<div class=\"dni-plaintext\">464</div>"
      ]
     },
     "metadata": {},
     "output_type": "display_data"
    }
   ],
   "source": [
    "let fullyOverlaps (elf1, elf2) =\n",
    "    let section1 = set elf1\n",
    "    let section2 = set elf2\n",
    "    Set.intersect section1 section2 = section1\n",
    "    || Set.intersect section1 section2 = section2\n",
    "\n",
    "sectionPairs\n",
    "    |> Seq.filter fullyOverlaps\n",
    "    |> Seq.length"
   ]
  },
  {
   "cell_type": "markdown",
   "metadata": {},
   "source": [
    "In how many assignment pairs do the ranges overlap?"
   ]
  },
  {
   "cell_type": "code",
   "execution_count": 97,
   "metadata": {
    "dotnet_interactive": {
     "language": "fsharp"
    },
    "vscode": {
     "languageId": "dotnet-interactive.fsharp"
    }
   },
   "outputs": [
    {
     "data": {
      "text/html": [
       "<div class=\"dni-plaintext\">770</div>"
      ]
     },
     "metadata": {},
     "output_type": "display_data"
    }
   ],
   "source": [
    "let overlaps (elf1, elf2) =\n",
    "    Set.intersect (set elf1) (set elf2)\n",
    "    |> Seq.length\n",
    "\n",
    "sectionPairs\n",
    "    |> Seq.map overlaps\n",
    "    |> Seq.filter (fun len -> len > 0)\n",
    "    |> Seq.length"
   ]
  }
 ],
 "metadata": {
  "kernelspec": {
   "display_name": ".NET (C#)",
   "language": "C#",
   "name": ".net-csharp"
  },
  "language_info": {
   "file_extension": ".cs",
   "mimetype": "text/x-csharp",
   "name": "C#",
   "pygments_lexer": "csharp",
   "version": "9.0"
  },
  "orig_nbformat": 4
 },
 "nbformat": 4,
 "nbformat_minor": 2
}
